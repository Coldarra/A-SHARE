{
 "cells": [
  {
   "cell_type": "code",
   "execution_count": 1,
   "metadata": {},
   "outputs": [
    {
     "data": {
      "text/html": [
       "<script type=\"text/javascript\">window.PlotlyConfig = {MathJaxConfig: 'local'};</script><script type=\"text/javascript\">if (window.MathJax) {MathJax.Hub.Config({SVG: {font: \"STIX-Web\"}});}</script><script>requirejs.config({paths: { 'plotly': ['https://cdn.plot.ly/plotly-latest.min']},});if(!window._Plotly) {require(['plotly'],function(plotly) {window._Plotly=plotly;});}</script>"
      ],
      "text/vnd.plotly.v1+html": [
       "<script type=\"text/javascript\">window.PlotlyConfig = {MathJaxConfig: 'local'};</script><script type=\"text/javascript\">if (window.MathJax) {MathJax.Hub.Config({SVG: {font: \"STIX-Web\"}});}</script><script>requirejs.config({paths: { 'plotly': ['https://cdn.plot.ly/plotly-latest.min']},});if(!window._Plotly) {require(['plotly'],function(plotly) {window._Plotly=plotly;});}</script>"
      ]
     },
     "metadata": {},
     "output_type": "display_data"
    }
   ],
   "source": [
    "import os\n",
    "import time\n",
    "import numpy as np\n",
    "import tushare as ts\n",
    "import pandas as pd\n",
    "from datetime import datetime, timedelta\n",
    "import plotly.offline as py\n",
    "import plotly.graph_objs as go\n",
    "from plotly.graph_objs import Scatter, Layout\n",
    "py.init_notebook_mode(connected=True)"
   ]
  },
  {
   "cell_type": "code",
   "execution_count": 2,
   "metadata": {},
   "outputs": [
    {
     "name": "stdin",
     "output_type": "stream",
     "text": [
      "token: ························································\n"
     ]
    }
   ],
   "source": [
    "import getpass\n",
    "token = getpass.getpass('token:')\n",
    "pro = ts.pro_api(token)"
   ]
  },
  {
   "cell_type": "markdown",
   "metadata": {},
   "source": [
    "# 获取当天日期\n",
    "```python\n",
    "Parameters: None\n",
    "\n",
    "Returns: str ('20190325')\n",
    "```"
   ]
  },
  {
   "cell_type": "code",
   "execution_count": 3,
   "metadata": {},
   "outputs": [],
   "source": [
    "get_date = lambda :time.strftime('%Y%m%d',time.localtime(time.time()))"
   ]
  },
  {
   "cell_type": "markdown",
   "metadata": {},
   "source": [
    "# 获取前N天日期\n",
    "```python\n",
    "Parameters:\n",
    "    \n",
    "    date: str ('20190325') 默认今天\n",
    "        \n",
    "    N: int 前 N 天，默认 1 天\n",
    "\n",
    "Returns: str ('20190324')\n",
    "```"
   ]
  },
  {
   "cell_type": "code",
   "execution_count": 4,
   "metadata": {},
   "outputs": [],
   "source": [
    "get_pastdate = lambda date=get_date(), N=1 :datetime.strftime(pd.to_datetime(date) - timedelta(N+1-1), '%Y%m%d')"
   ]
  },
  {
   "cell_type": "markdown",
   "metadata": {},
   "source": [
    "# 获取最近N天所有股票的数据\n",
    "```python\n",
    "Parameters:\n",
    "\n",
    "    date: str ('20190325') 默认今天\n",
    "        \n",
    "    N: int 最近 N 天，默认 1 天\n",
    "        \n",
    "    print_mode: bool 是否要打印，默认 False\n",
    "\n",
    "Returns: list 每一个项都是那一天的 A 股所有股票的 OHLC 等数据构成的 DataFrame，DataFrame.name 为是日日期，首项[0]的日期最早，末项[-1]的日期最晚\n",
    "```"
   ]
  },
  {
   "cell_type": "code",
   "execution_count": 5,
   "metadata": {},
   "outputs": [],
   "source": [
    "def get_allNdays(date=get_date(), N=1, print_mode=False):\n",
    "    data = []\n",
    "    for _ in range(N):\n",
    "        today = pro.daily(trade_date=date)\n",
    "        while len(today)==0:\n",
    "            date = get_pastdate(date=date, N=1)\n",
    "            today = pro.daily(trade_date=date)\n",
    "        if print_mode: print('【%s】'%date,end='\\t')\n",
    "        today['state'] = today['close']>=today['open'] # 阳柱:True, 阴柱:False\n",
    "        today.name = date\n",
    "        today.index = today['ts_code']\n",
    "        data.append(today)\n",
    "        date = get_pastdate(date=date, N=1)\n",
    "    data.reverse()\n",
    "    return data"
   ]
  },
  {
   "cell_type": "markdown",
   "metadata": {},
   "source": [
    "# 获取最近N天单只个股的数据\n",
    "```python\n",
    "Parameters:\n",
    "    \n",
    "    code: str ('000001.SZ') 没有默认\n",
    "        \n",
    "    date: str ('20190325') 默认今天\n",
    "        \n",
    "    peroid: int 从 date 往前几天，默认 300 天\n",
    "        \n",
    "    print_mode: bool 是否要打印，默认 False\n",
    "\n",
    "Returns: DataFrame 该支股票的历史数据\n",
    "```"
   ]
  },
  {
   "cell_type": "code",
   "execution_count": 6,
   "metadata": {},
   "outputs": [],
   "source": [
    "def get_oneNdays(code, date=get_date(), period=300):\n",
    "    start_date = get_pastdate(date=date, N=period)\n",
    "    name = pro.stock_basic(exchange='', list_status='L', fields='ts_code,name')\n",
    "    df = pro.daily(ts_code=code, start_date=start_date, end_date=date).iloc[::-1]\n",
    "    df['state'] = df['close']>=df['open'] # 阳柱:True, 阴柱:False\n",
    "    df.index = range(len(df))\n",
    "    df.name = '%s-%s'%(name[name['ts_code']==code]['name'].item(),code)\n",
    "    return df"
   ]
  },
  {
   "cell_type": "markdown",
   "metadata": {},
   "source": [
    "# 筛选倍量柱\n",
    "```python\n",
    "Parameters:\n",
    "    \n",
    "    date: str ('20190325') 默认今天\n",
    "        \n",
    "    v_pct_min: float 今天的量比上昨天的量的最小值，默认 0.9\n",
    "        \n",
    "    v_pct_max: float 今天的量比上昨天的量的最大值，默认 1.1\n",
    "        \n",
    "    c_pct_min: float 今天的收盘价比上昨天的收盘价的最小值，默认 1.01\n",
    "        \n",
    "    ignore: list 名单中的每一项都是股票代码，只要在名单中就完全不考虑，默认 []\n",
    "        \n",
    "    print_mode: bool 是否要打印，默认 False\n",
    "\n",
    "Returns: dict keys 为是日日期， values 为 list 每一个项都是满足条件的股票代码\n",
    "```"
   ]
  },
  {
   "cell_type": "code",
   "execution_count": 7,
   "metadata": {},
   "outputs": [],
   "source": [
    "def get_blz(date=get_date(), v_pct_min=0.9, v_pct_max=1.1, c_pct_min=1.01, ignore=[], print_mode=False):\n",
    "    result = {date:[]}\n",
    "    [yesterday,today] = get_allNdays(date=date, N=2)\n",
    "    for code in today['ts_code']:\n",
    "        if code in list(yesterday['ts_code']) and code not in ignore:\n",
    "            today_v = float(today.loc[code]['vol'])\n",
    "            today_c = float(today.loc[code]['close'])\n",
    "            yesterday_v = float(yesterday.loc[code]['vol'])\n",
    "            yesterday_c = float(yesterday.loc[code]['close'])\n",
    "            v_pct = today_v/yesterday_v\n",
    "            c_pct = today_c/yesterday_c\n",
    "            cond1 = v_pct > v_pct_min and v_pct < v_pct_max\n",
    "            cond2 = c_pct > c_pct_min\n",
    "            if cond1 and cond2:\n",
    "                if print_mode:print('{}\\tv:{}\\tc:{}'.format(code,round(v_pct,2),round(c_pct,2)))\n",
    "                result[date].append(code)\n",
    "    return result"
   ]
  },
  {
   "cell_type": "markdown",
   "metadata": {},
   "source": [
    "# 筛选黄金柱\n",
    "\n",
    "# 将军柱（价平量平）（量柱和价柱对比形成小平台）\n",
    "\n",
    "1. 【阳胜柱】：所谓阳胜柱，就是量柱和价柱双向胜过其左侧最近的阴柱。\n",
    "\n",
    ">a. 阳柱收盘高于阴柱开盘\n",
    "\n",
    ">b. 阳柱的量高于阴柱的量\n",
    "\n",
    "2. 【收盘价三日不破底】：不破实底就是基柱后三日的收盘价，没有跌破基柱的实底（开盘价）。这里有两种情况：\n",
    "\n",
    ">a. 基柱后三日的收盘价，均高于或等于基柱实底（开盘价）\n",
    "\n",
    ">b. 基柱后三日的收盘价平均值，不低于基柱实底（开盘价）\n",
    "\n",
    "3. 【量柱群三日不过头】两种情况：\n",
    "\n",
    ">a. 基柱后三日的量柱应逐步缩小（有时包括基柱）\n",
    "\n",
    ">b. 基柱后三日的量柱可参差不齐，但量价之比相对持平。\n",
    "\n",
    "# 黄金柱（价升量缩）（量柱和价柱对比形成喇叭口）\n",
    "\n",
    "1. 【将军柱】\n",
    "\n",
    "2. 【收盘价三日不破顶】：不破实顶就是基柱后三日的收盘价，没有跌破基柱实顶（收盘价）。这有两种情况：\n",
    "\n",
    ">a. 基柱后三日的收盘价，均高于或等于基柱实顶（收盘价）\n",
    "\n",
    ">b. 基柱后三日的收盘价平均值，不低于基柱实顶（收盘价）\n",
    "\n",
    "3. 【量柱群三日不抬头】\n",
    "\n",
    ">a. 基柱后三日的量柱应逐步缩小（有时包括基柱）\n",
    "\n",
    ">b. 基柱后三日的量柱可参差不齐，但量价之比相对加大。\n",
    "\n",
    "4. 【先者优先】\n",
    "\n",
    "[5.2：伏击涨停的王牌之将军柱的三个标准](https://www.guminwangxiao.com/jiqiao/fjzt/1043.html)\n",
    "\n",
    "[5.3：伏击涨停的王牌之黄金柱的三个标准](https://www.guminwangxiao.com/jiqiao/fjzt/1044.html)"
   ]
  },
  {
   "cell_type": "markdown",
   "metadata": {},
   "source": [
    "```python\n",
    "Parameters:\n",
    "    \n",
    "    date: str ('20190325') 默认今天\n",
    "        \n",
    "    ignore: list 名单中的每一项都是股票代码，只要在名单中就完全不考虑，默认 []\n",
    "        \n",
    "    print_mode: bool 是否要打印，默认 False\n",
    "\n",
    "Returns: dict keys 为是日日期， values 为 list 每一个项都是满足条件的股票代码\n",
    "```"
   ]
  },
  {
   "cell_type": "code",
   "execution_count": 8,
   "metadata": {},
   "outputs": [],
   "source": [
    "def get_hjz(date=get_date(), ignore=[], print_mode=False):\n",
    "    result = {date:[]}\n",
    "    [d1, d2, d3] = get_allNdays(date=date, N=3) # d1→d2→d3\n",
    "    for code in d1['ts_code']:\n",
    "        if code in list(d2['ts_code']) and code in list(d3['ts_code']) and code not in ignore:\n",
    "            o1 = d1.loc[code]['open'].item()\n",
    "            c1,c2,c3 = d1.loc[code]['close'].item(),d2.loc[code]['close'].item(),d3.loc[code]['close'].item()\n",
    "            v1,v2,v3 = d1.loc[code]['vol'].item(),d2.loc[code]['vol'].item(),d3.loc[code]['vol'].item()\n",
    "            cond_open = o1 < min(c2,c3)        # 收盘价三日不破底\n",
    "            cond_close = c1 < min(c2,c3)       # 收盘价三日不破顶\n",
    "            cond_vol = (v1 > v2) & (v2 > v3)   # 量柱群三日不过头、不抬头\n",
    "            if cond_open and cond_close and cond_vol:\n",
    "                if print_mode:print(code)\n",
    "                result[date].append(code)\n",
    "    return result"
   ]
  },
  {
   "cell_type": "markdown",
   "metadata": {},
   "source": [
    "# 缩量群 / 平量群 / 梯量群\n",
    "```python\n",
    "Parameters:\n",
    "    \n",
    "    date: str ('20190325') 默认今天\n",
    "        \n",
    "    peroid: int 缩量群的量柱数目，默认 6\n",
    "        \n",
    "    rough: 精确的模糊，即今天的价格要比昨天的 0.99 高，今天的量要比昨天的 1/0.99 低，默认 0.99 （以缩量群为例）\n",
    "        \n",
    "    ignore: list 名单中的每一项都是股票代码，只要在名单中就完全不考虑，默认 []\n",
    "        \n",
    "    print_mode: bool 是否要打印，默认 False\n",
    "\n",
    "Returns: dict keys 为是日日期， values 为 list 每一个项都是满足条件的股票代码\n",
    "```"
   ]
  },
  {
   "cell_type": "code",
   "execution_count": 9,
   "metadata": {},
   "outputs": [],
   "source": [
    "def get_slq(date=get_date(), period=6, rough=0.99, ignore=[], print_mode=False):\n",
    "    result = {date:[]}\n",
    "    days = get_allNdays(date=date, N=period) # days[0]→days[1]→days[2]\n",
    "    for code in days[0]['ts_code']:\n",
    "        In = code not in ignore\n",
    "        for day in days:\n",
    "            if not In:\n",
    "                break\n",
    "            else:\n",
    "                In *= code in list(day['ts_code'])\n",
    "        if not In:\n",
    "            break\n",
    "        else:\n",
    "            price_increase = True\n",
    "            vol_decrease = True\n",
    "            for i in range(len(days)-1):\n",
    "                if price_increase:\n",
    "                    price_increase *= days[i+1].loc[code]['close'].item()>days[i].loc[code]['close'].item()*rough\n",
    "                else:\n",
    "                    break\n",
    "                if vol_decrease:\n",
    "                    vol_decrease *= days[i+1].loc[code]['vol'].item()<days[i].loc[code]['vol'].item()/rough\n",
    "                else:\n",
    "                    break\n",
    "            ##### N天至少价格要上涨N个点 #####\n",
    "            price_increase *= days[-1].loc[code]['close'].item()>days[0].loc[code]['close'].item()*(1+period*0.01)\n",
    "            ##### N天至少量要下降N个点 #####\n",
    "            vol_decrease *= days[-1].loc[code]['vol'].item()<days[0].loc[code]['vol'].item()/(1+period*0.01)\n",
    "            if price_increase and vol_decrease:\n",
    "                if print_mode:print(code)\n",
    "                result[date].append(code)\n",
    "            else:\n",
    "                pass\n",
    "    return result"
   ]
  },
  {
   "cell_type": "code",
   "execution_count": 46,
   "metadata": {},
   "outputs": [],
   "source": [
    "def get_plq(date=get_date(), period=6, rough=0.99, ignore=[], print_mode=False):\n",
    "    result = {date:[]}\n",
    "    days = get_allNdays(date=date, N=period) # days[0]→days[1]→days[2]\n",
    "    for code in days[0]['ts_code']:\n",
    "        In = code not in ignore\n",
    "        for day in days:\n",
    "            if not In:\n",
    "                break\n",
    "            else:\n",
    "                In *= code in list(day['ts_code'])\n",
    "        if not In:\n",
    "            break\n",
    "        else:\n",
    "            price_increase = True\n",
    "            vol_decrease = True\n",
    "            for i in range(len(days)-1):\n",
    "                if price_increase:\n",
    "                    price_increase *= days[i+1].loc[code]['close'].item()>days[i].loc[code]['close'].item()*rough\n",
    "                else:\n",
    "                    break\n",
    "                if vol_decrease:\n",
    "                    vol_decrease *= days[i].loc[code]['vol'].item()*rough<days[i+1].loc[code]['vol'].item()<days[i].loc[code]['vol'].item()/rough\n",
    "                else:\n",
    "                    break\n",
    "            ##### N天至少价格要上涨N个点 #####\n",
    "            price_increase *= days[-1].loc[code]['close'].item()>days[0].loc[code]['close'].item()*(1+period*0.01)\n",
    "            ##### N天的要在正负N个点之间 #####\n",
    "            vol_decrease *= days[0].loc[code]['vol'].item()/(1+period*0.01)<days[-1].loc[code]['vol'].item()<days[0].loc[code]['vol'].item()*(1+period*0.01)\n",
    "            if price_increase and vol_decrease:\n",
    "                if print_mode:print(code)\n",
    "                result[date].append(code)\n",
    "            else:\n",
    "                pass\n",
    "    return result"
   ]
  },
  {
   "cell_type": "code",
   "execution_count": 53,
   "metadata": {},
   "outputs": [],
   "source": [
    "def get_tlq(date=get_date(), period=6, rough=0.99, ignore=[], print_mode=False):\n",
    "    result = {date:[]}\n",
    "    days = get_allNdays(date=date, N=period) # days[0]→days[1]→days[2]\n",
    "    for code in days[0]['ts_code']:\n",
    "        In = code not in ignore\n",
    "        for day in days:\n",
    "            if not In:\n",
    "                break\n",
    "            else:\n",
    "                In *= code in list(day['ts_code'])\n",
    "        if not In:\n",
    "            break\n",
    "        else:\n",
    "            price_increase = True\n",
    "            vol_decrease = True\n",
    "            for i in range(len(days)-1):\n",
    "                if price_increase:\n",
    "                    price_increase *= days[i+1].loc[code]['close'].item()>days[i].loc[code]['close'].item()*rough\n",
    "                else:\n",
    "                    break\n",
    "                if vol_decrease:\n",
    "                    vol_decrease *= days[i+1].loc[code]['vol'].item()>days[i].loc[code]['vol'].item()*rough\n",
    "                else:\n",
    "                    break\n",
    "            ##### N天至少价格要上涨N个点 #####\n",
    "            price_increase *= days[-1].loc[code]['close'].item()>days[0].loc[code]['close'].item()*(1+period*0.01)\n",
    "            ##### N天至少量要下降N个点 #####\n",
    "            vol_decrease *= days[-1].loc[code]['vol'].item()>days[0].loc[code]['vol'].item()*(1+period*0.01)\n",
    "            ##### 价格上升角度大于量上升的角度\n",
    "            p_vs_v = (days[-1].loc[code]['close'].item()-days[0].loc[code]['close'].item())>(days[-1].loc[code]['vol'].item()-days[0].loc[code]['vol'].item())\n",
    "            if price_increase and vol_decrease and p_vs_v:\n",
    "                if print_mode:print(code)\n",
    "                result[date].append(code)\n",
    "            else:\n",
    "                pass\n",
    "    return result"
   ]
  },
  {
   "cell_type": "markdown",
   "metadata": {},
   "source": [
    "# N天中满足条件的次数\n",
    "```python\n",
    "Parameters:\n",
    "    \n",
    "    Func: 需要满足的条件（函数），例如：get_blz、get_hjz、get_slq，默认 get_blz\n",
    "        \n",
    "    N: int N天中，默认 10\n",
    "        \n",
    "    Parameters: dict 相应的 Func 所传入的参数，默认为 {'date':get_date()}\n",
    "        \n",
    "    ignore: list 名单中的每一项都是股票代码，只要在名单中就完全不考虑，默认 []\n",
    "        \n",
    "    print_mode: bool 是否要打印，默认 False\n",
    "\n",
    "Returns: dict keys 是股票代码(已剔除没有任何天满足条件的股票)，values 是 N 天满足条件的次数\n",
    "```"
   ]
  },
  {
   "cell_type": "code",
   "execution_count": 10,
   "metadata": {},
   "outputs": [],
   "source": [
    "def countN(func=get_blz, N=10, parameters={'date':get_date()}, ignore=[]):\n",
    "    all_stock = pro.stock_basic(exchange='', list_status='L', fields='ts_code')['ts_code']\n",
    "    count = dict(zip(all_stock,[0]*len(all_stock)))\n",
    "    for _ in range(N):\n",
    "        satisfied = func(**parameters)\n",
    "        for code in list(satisfied.values())[0]:\n",
    "            count[code] += 1\n",
    "        parameters['date'] = get_pastdate(list(satisfied.keys())[0])\n",
    "    return {code: times for code, times in count.items() if times>0}"
   ]
  },
  {
   "cell_type": "markdown",
   "metadata": {},
   "source": [
    "# 画K线图 OHLC\n",
    "```python\n",
    "Parameters:\n",
    "    \n",
    "    code: str ('000001.SZ') 没有默认\n",
    "        \n",
    "    date: str ('20190325') 默认今天\n",
    "        \n",
    "    peroid: int 从 date 往前几天，默认 300 天\n",
    "\n",
    "Returns: DataFrame 该支股票的历史数据，同时在同级目录创建档名为股票代码的 html 绘图档\n",
    "```"
   ]
  },
  {
   "cell_type": "code",
   "execution_count": 60,
   "metadata": {},
   "outputs": [],
   "source": [
    "def plotly_ohlc(code, date=get_date(), period=300):\n",
    "    \n",
    "    df = get_oneNdays(code, date, period)\n",
    "    \n",
    "    INCREASING_COLOR = '#e2002a'\n",
    "    DECREASING_COLOR = '#19975d'\n",
    "    \n",
    "    trace = go.Ohlc(x=pd.to_datetime(df['trade_date']),\n",
    "                open=df.open,\n",
    "                high=df.high,\n",
    "                low=df.low,\n",
    "                close=df.close,\n",
    "                yaxis = 'y2',\n",
    "                name = 'OHLC',\n",
    "                increasing=dict(line=dict(color=INCREASING_COLOR)),\n",
    "                decreasing=dict(line=dict(color=DECREASING_COLOR)),\n",
    "                text = df['pct_chg']\n",
    "    )\n",
    "    data = [trace]\n",
    "\n",
    "    layout = go.Layout(\n",
    "        xaxis = dict(rangeslider = dict(visible = False)),\n",
    "        title = df.name,\n",
    "        titlefont = dict(size = 30),\n",
    "        yaxis = dict( domain = [0, 0.2], showticklabels = True),\n",
    "        yaxis2 = dict( domain = [0.2, 0.97] ),\n",
    "        legend = dict( orientation = 'h', y=0.97, x=0, yanchor='bottom'),\n",
    "        margin = dict( t=60, b=40, r=40, l=40 ),\n",
    "        plot_bgcolor = 'rgb(250, 250, 250)'\n",
    "    )\n",
    "    fig = dict(data=data, layout=layout)\n",
    "    \n",
    "    colors = list(df['state'].map({True:INCREASING_COLOR,False:DECREASING_COLOR}))\n",
    "\n",
    "    fig['data'].append( dict( x=pd.to_datetime(df['trade_date']), y=df.vol,                         \n",
    "                             marker=dict( color=colors ),\n",
    "                             type='bar', yaxis='y', name='vol' ) )\n",
    "\n",
    "    name = '{}.html'.format(df.name.split('-')[1])\n",
    "    py.plot(fig, filename = name)\n",
    "    return df"
   ]
  },
  {
   "cell_type": "markdown",
   "metadata": {},
   "source": [
    "# 画N天K线图 OHLC\n",
    "```python\n",
    "Parameters:\n",
    "    \n",
    "    code: str ('000001.SZ') 没有默认\n",
    "        \n",
    "    date: str ('20190325') 默认今天\n",
    "        \n",
    "    peroid: int 从 date 往前几天，默认 300 天\n",
    "        \n",
    "    N: int N 天数据画一根柱子，默认 2 天\n",
    "\n",
    "Returns: list 该支股票的历史数据以 N 天划分，例如：[0] 表示01、23、34，[1] 表示12、34、56\n",
    "```"
   ]
  },
  {
   "cell_type": "code",
   "execution_count": 12,
   "metadata": {},
   "outputs": [],
   "source": [
    "def Nplotly_ohlc(code, date=get_date(), period=300, N=2):\n",
    "    \n",
    "    def NK(code, date, period, N):\n",
    "        def nk(df,N,start):\n",
    "            df3 = pd.DataFrame(columns=['trade_date','open','high','low','close','vol','amount','state'])\n",
    "            for i in range(start,len(df)-N+1,N):\n",
    "                df3.loc[i+N-1,'trade_date'] = df.loc[i,'trade_date']\n",
    "                df3.loc[i+N-1,'open'] = df.loc[i,'open']\n",
    "                df3.loc[i+N-1,'high'] = max(df.loc[i:i+N-1,'high'])\n",
    "                df3.loc[i+N-1,'low'] = min(df.loc[i:i+N-1,'low'])\n",
    "                df3.loc[i+N-1,'close'] = df.loc[i+N-1,'close']\n",
    "                df3.loc[i+N-1,'vol'] = sum(df.loc[i:i+N-1,'vol'])\n",
    "                df3.loc[i+N-1,'amount'] = sum(df.loc[i:i+N-1,'amount'])\n",
    "                df3.loc[i+N-1,'state'] = df.loc[i+N-1,'close']>df.loc[i,'open']\n",
    "            df3.name = df.name\n",
    "            return df3\n",
    "        df_list = []\n",
    "        for i in range(N):\n",
    "            df_list.append(nk(df=get_oneNdays(code=code,date=date,period=period), N=N, start=i))\n",
    "        return df_list\n",
    "    \n",
    "    df_list = NK(code, date, period, N)\n",
    "    \n",
    "    INCREASING_COLOR = ['#e2002a']*3#,'#f8b4b4','#ea513b']*2\n",
    "    DECREASING_COLOR = ['#19975d']*3#,'#b3e0af','#92bc4e']*2\n",
    "    \n",
    "    data = []\n",
    "    colors = []\n",
    "    \n",
    "    for i in range(len(df_list)):\n",
    "        idict = go.Ohlc(\n",
    "        open = df_list[i].open,\n",
    "        high = df_list[i].high,\n",
    "        low = df_list[i].low,\n",
    "        close = df_list[i].close,\n",
    "        x = pd.to_datetime(df_list[i]['trade_date']),\n",
    "        yaxis = 'y2',\n",
    "        name = 'OHLC_%s'%i,\n",
    "        increasing=dict(line=dict(color=INCREASING_COLOR[i])),\n",
    "        decreasing=dict(line=dict(color=DECREASING_COLOR[i])),\n",
    "        )\n",
    "        data.append(idict)\n",
    "        colors.append(list(df_list[i]['state'].map({True:INCREASING_COLOR[i],False:DECREASING_COLOR[i]})))\n",
    "        \n",
    "    layout = go.Layout(\n",
    "        xaxis = dict(rangeslider = dict(visible = False)),\n",
    "        title = df_list[0].name,\n",
    "        titlefont = dict(size = 30),\n",
    "        yaxis = dict( domain = [0, 0.2], showticklabels = True),\n",
    "        yaxis2 = dict( domain = [0.2, 0.97] ),\n",
    "        legend = dict( orientation = 'h', y=0.97, x=0, yanchor='bottom'),\n",
    "        margin = dict( t=60, b=40, r=40, l=40 ),\n",
    "        plot_bgcolor = 'rgb(250, 250, 250)'\n",
    "    )\n",
    "    fig = dict(data=data, layout=layout)\n",
    "    \n",
    "    for i in range(len(df_list)):\n",
    "        fig['data'].append(dict( x=pd.to_datetime(df_list[i]['trade_date']), y=df_list[i].vol, marker=dict( color=colors[i] ),\n",
    "                            type='bar', yaxis='y', name='vol_%s'%i ))\n",
    "\n",
    "    name = '{}.html'.format(df_list[0].name.split('-')[1])\n",
    "    py.plot( fig, filename = name)\n",
    "    return df_list"
   ]
  },
  {
   "cell_type": "markdown",
   "metadata": {
    "toc-hr-collapsed": false
   },
   "source": [
    "# 【实测】"
   ]
  },
  {
   "cell_type": "code",
   "execution_count": 13,
   "metadata": {},
   "outputs": [
    {
     "data": {
      "text/html": [
       "<div>\n",
       "<style scoped>\n",
       "    .dataframe tbody tr th:only-of-type {\n",
       "        vertical-align: middle;\n",
       "    }\n",
       "\n",
       "    .dataframe tbody tr th {\n",
       "        vertical-align: top;\n",
       "    }\n",
       "\n",
       "    .dataframe thead th {\n",
       "        text-align: right;\n",
       "    }\n",
       "</style>\n",
       "<table border=\"1\" class=\"dataframe\">\n",
       "  <thead>\n",
       "    <tr style=\"text-align: right;\">\n",
       "      <th></th>\n",
       "      <th>ts_code</th>\n",
       "      <th>trade_date</th>\n",
       "      <th>open</th>\n",
       "      <th>high</th>\n",
       "      <th>low</th>\n",
       "      <th>close</th>\n",
       "      <th>pre_close</th>\n",
       "      <th>change</th>\n",
       "      <th>pct_chg</th>\n",
       "      <th>vol</th>\n",
       "      <th>amount</th>\n",
       "      <th>state</th>\n",
       "    </tr>\n",
       "    <tr>\n",
       "      <th>ts_code</th>\n",
       "      <th></th>\n",
       "      <th></th>\n",
       "      <th></th>\n",
       "      <th></th>\n",
       "      <th></th>\n",
       "      <th></th>\n",
       "      <th></th>\n",
       "      <th></th>\n",
       "      <th></th>\n",
       "      <th></th>\n",
       "      <th></th>\n",
       "      <th></th>\n",
       "    </tr>\n",
       "  </thead>\n",
       "  <tbody>\n",
       "    <tr>\n",
       "      <th>300119.SZ</th>\n",
       "      <td>300119.SZ</td>\n",
       "      <td>20190328</td>\n",
       "      <td>13.97</td>\n",
       "      <td>14.13</td>\n",
       "      <td>13.00</td>\n",
       "      <td>13.25</td>\n",
       "      <td>13.97</td>\n",
       "      <td>-0.72</td>\n",
       "      <td>-5.1539</td>\n",
       "      <td>55164.38</td>\n",
       "      <td>75041.645</td>\n",
       "      <td>False</td>\n",
       "    </tr>\n",
       "    <tr>\n",
       "      <th>601818.SH</th>\n",
       "      <td>601818.SH</td>\n",
       "      <td>20190328</td>\n",
       "      <td>4.01</td>\n",
       "      <td>4.02</td>\n",
       "      <td>3.97</td>\n",
       "      <td>4.00</td>\n",
       "      <td>4.02</td>\n",
       "      <td>-0.02</td>\n",
       "      <td>-0.4975</td>\n",
       "      <td>626640.92</td>\n",
       "      <td>250046.032</td>\n",
       "      <td>False</td>\n",
       "    </tr>\n",
       "    <tr>\n",
       "      <th>300125.SZ</th>\n",
       "      <td>300125.SZ</td>\n",
       "      <td>20190328</td>\n",
       "      <td>17.85</td>\n",
       "      <td>18.58</td>\n",
       "      <td>16.56</td>\n",
       "      <td>16.88</td>\n",
       "      <td>17.98</td>\n",
       "      <td>-1.10</td>\n",
       "      <td>-6.1179</td>\n",
       "      <td>343317.09</td>\n",
       "      <td>610368.035</td>\n",
       "      <td>False</td>\n",
       "    </tr>\n",
       "    <tr>\n",
       "      <th>002486.SZ</th>\n",
       "      <td>002486.SZ</td>\n",
       "      <td>20190328</td>\n",
       "      <td>4.19</td>\n",
       "      <td>4.24</td>\n",
       "      <td>4.12</td>\n",
       "      <td>4.12</td>\n",
       "      <td>4.17</td>\n",
       "      <td>-0.05</td>\n",
       "      <td>-1.1990</td>\n",
       "      <td>103609.00</td>\n",
       "      <td>43382.547</td>\n",
       "      <td>False</td>\n",
       "    </tr>\n",
       "    <tr>\n",
       "      <th>002482.SZ</th>\n",
       "      <td>002482.SZ</td>\n",
       "      <td>20190328</td>\n",
       "      <td>6.08</td>\n",
       "      <td>6.22</td>\n",
       "      <td>6.06</td>\n",
       "      <td>6.09</td>\n",
       "      <td>6.19</td>\n",
       "      <td>-0.10</td>\n",
       "      <td>-1.6155</td>\n",
       "      <td>113440.51</td>\n",
       "      <td>69629.194</td>\n",
       "      <td>True</td>\n",
       "    </tr>\n",
       "  </tbody>\n",
       "</table>\n",
       "</div>"
      ],
      "text/plain": [
       "             ts_code trade_date   open   high    low  close  pre_close  \\\n",
       "ts_code                                                                  \n",
       "300119.SZ  300119.SZ   20190328  13.97  14.13  13.00  13.25      13.97   \n",
       "601818.SH  601818.SH   20190328   4.01   4.02   3.97   4.00       4.02   \n",
       "300125.SZ  300125.SZ   20190328  17.85  18.58  16.56  16.88      17.98   \n",
       "002486.SZ  002486.SZ   20190328   4.19   4.24   4.12   4.12       4.17   \n",
       "002482.SZ  002482.SZ   20190328   6.08   6.22   6.06   6.09       6.19   \n",
       "\n",
       "           change  pct_chg        vol      amount  state  \n",
       "ts_code                                                   \n",
       "300119.SZ   -0.72  -5.1539   55164.38   75041.645  False  \n",
       "601818.SH   -0.02  -0.4975  626640.92  250046.032  False  \n",
       "300125.SZ   -1.10  -6.1179  343317.09  610368.035  False  \n",
       "002486.SZ   -0.05  -1.1990  103609.00   43382.547  False  \n",
       "002482.SZ   -0.10  -1.6155  113440.51   69629.194   True  "
      ]
     },
     "execution_count": 13,
     "metadata": {},
     "output_type": "execute_result"
    }
   ],
   "source": [
    "get_allNdays()[0].head()"
   ]
  },
  {
   "cell_type": "code",
   "execution_count": 14,
   "metadata": {},
   "outputs": [
    {
     "name": "stdout",
     "output_type": "stream",
     "text": [
      "【20190325】\t【20190322】\t"
     ]
    },
    {
     "data": {
      "text/html": [
       "<div>\n",
       "<style scoped>\n",
       "    .dataframe tbody tr th:only-of-type {\n",
       "        vertical-align: middle;\n",
       "    }\n",
       "\n",
       "    .dataframe tbody tr th {\n",
       "        vertical-align: top;\n",
       "    }\n",
       "\n",
       "    .dataframe thead th {\n",
       "        text-align: right;\n",
       "    }\n",
       "</style>\n",
       "<table border=\"1\" class=\"dataframe\">\n",
       "  <thead>\n",
       "    <tr style=\"text-align: right;\">\n",
       "      <th></th>\n",
       "      <th>ts_code</th>\n",
       "      <th>trade_date</th>\n",
       "      <th>open</th>\n",
       "      <th>high</th>\n",
       "      <th>low</th>\n",
       "      <th>close</th>\n",
       "      <th>pre_close</th>\n",
       "      <th>change</th>\n",
       "      <th>pct_chg</th>\n",
       "      <th>vol</th>\n",
       "      <th>amount</th>\n",
       "      <th>state</th>\n",
       "    </tr>\n",
       "    <tr>\n",
       "      <th>ts_code</th>\n",
       "      <th></th>\n",
       "      <th></th>\n",
       "      <th></th>\n",
       "      <th></th>\n",
       "      <th></th>\n",
       "      <th></th>\n",
       "      <th></th>\n",
       "      <th></th>\n",
       "      <th></th>\n",
       "      <th></th>\n",
       "      <th></th>\n",
       "      <th></th>\n",
       "    </tr>\n",
       "  </thead>\n",
       "  <tbody>\n",
       "    <tr>\n",
       "      <th>600000.SH</th>\n",
       "      <td>600000.SH</td>\n",
       "      <td>20190322</td>\n",
       "      <td>11.49</td>\n",
       "      <td>11.51</td>\n",
       "      <td>11.31</td>\n",
       "      <td>11.39</td>\n",
       "      <td>11.46</td>\n",
       "      <td>-0.07</td>\n",
       "      <td>-0.6108</td>\n",
       "      <td>354364.46</td>\n",
       "      <td>403972.783</td>\n",
       "      <td>False</td>\n",
       "    </tr>\n",
       "    <tr>\n",
       "      <th>600004.SH</th>\n",
       "      <td>600004.SH</td>\n",
       "      <td>20190322</td>\n",
       "      <td>14.40</td>\n",
       "      <td>15.00</td>\n",
       "      <td>14.31</td>\n",
       "      <td>14.89</td>\n",
       "      <td>14.43</td>\n",
       "      <td>0.46</td>\n",
       "      <td>3.1878</td>\n",
       "      <td>220079.97</td>\n",
       "      <td>324663.261</td>\n",
       "      <td>True</td>\n",
       "    </tr>\n",
       "    <tr>\n",
       "      <th>600006.SH</th>\n",
       "      <td>600006.SH</td>\n",
       "      <td>20190322</td>\n",
       "      <td>4.52</td>\n",
       "      <td>4.98</td>\n",
       "      <td>4.50</td>\n",
       "      <td>4.98</td>\n",
       "      <td>4.53</td>\n",
       "      <td>0.45</td>\n",
       "      <td>9.9338</td>\n",
       "      <td>606897.36</td>\n",
       "      <td>294476.945</td>\n",
       "      <td>True</td>\n",
       "    </tr>\n",
       "    <tr>\n",
       "      <th>600007.SH</th>\n",
       "      <td>600007.SH</td>\n",
       "      <td>20190322</td>\n",
       "      <td>14.68</td>\n",
       "      <td>14.95</td>\n",
       "      <td>14.63</td>\n",
       "      <td>14.81</td>\n",
       "      <td>14.76</td>\n",
       "      <td>0.05</td>\n",
       "      <td>0.3388</td>\n",
       "      <td>32909.36</td>\n",
       "      <td>48766.239</td>\n",
       "      <td>True</td>\n",
       "    </tr>\n",
       "    <tr>\n",
       "      <th>600008.SH</th>\n",
       "      <td>600008.SH</td>\n",
       "      <td>20190322</td>\n",
       "      <td>4.21</td>\n",
       "      <td>4.35</td>\n",
       "      <td>4.14</td>\n",
       "      <td>4.28</td>\n",
       "      <td>4.24</td>\n",
       "      <td>0.04</td>\n",
       "      <td>0.9434</td>\n",
       "      <td>780633.15</td>\n",
       "      <td>332835.785</td>\n",
       "      <td>True</td>\n",
       "    </tr>\n",
       "  </tbody>\n",
       "</table>\n",
       "</div>"
      ],
      "text/plain": [
       "             ts_code trade_date   open   high    low  close  pre_close  \\\n",
       "ts_code                                                                  \n",
       "600000.SH  600000.SH   20190322  11.49  11.51  11.31  11.39      11.46   \n",
       "600004.SH  600004.SH   20190322  14.40  15.00  14.31  14.89      14.43   \n",
       "600006.SH  600006.SH   20190322   4.52   4.98   4.50   4.98       4.53   \n",
       "600007.SH  600007.SH   20190322  14.68  14.95  14.63  14.81      14.76   \n",
       "600008.SH  600008.SH   20190322   4.21   4.35   4.14   4.28       4.24   \n",
       "\n",
       "           change  pct_chg        vol      amount  state  \n",
       "ts_code                                                   \n",
       "600000.SH   -0.07  -0.6108  354364.46  403972.783  False  \n",
       "600004.SH    0.46   3.1878  220079.97  324663.261   True  \n",
       "600006.SH    0.45   9.9338  606897.36  294476.945   True  \n",
       "600007.SH    0.05   0.3388   32909.36   48766.239   True  \n",
       "600008.SH    0.04   0.9434  780633.15  332835.785   True  "
      ]
     },
     "execution_count": 14,
     "metadata": {},
     "output_type": "execute_result"
    }
   ],
   "source": [
    "get_allNdays(date='20190325', N=2, print_mode=True)[0].head()"
   ]
  },
  {
   "cell_type": "markdown",
   "metadata": {},
   "source": [
    "# 筛选倍量柱"
   ]
  },
  {
   "cell_type": "code",
   "execution_count": 15,
   "metadata": {},
   "outputs": [
    {
     "name": "stdout",
     "output_type": "stream",
     "text": [
      "20190329\n"
     ]
    },
    {
     "data": {
      "text/plain": [
       "['603338.SH', '300647.SZ', '603500.SH', '002892.SZ', '002905.SZ']"
      ]
     },
     "execution_count": 15,
     "metadata": {},
     "output_type": "execute_result"
    }
   ],
   "source": [
    "selected = get_blz()\n",
    "print(list(selected.keys())[0])\n",
    "list(selected.values())[0][:5]"
   ]
  },
  {
   "cell_type": "code",
   "execution_count": 58,
   "metadata": {},
   "outputs": [
    {
     "name": "stdout",
     "output_type": "stream",
     "text": [
      "600191.SH\tv:1.01\tc:1.05\n",
      "600356.SH\tv:1.0\tc:1.07\n",
      "600422.SH\tv:0.99\tc:1.1\n"
     ]
    }
   ],
   "source": [
    "selected = get_blz(date='20190322', v_pct_min=0.99, v_pct_max=1.01, c_pct_min=1.05, ignore=[], print_mode=True)"
   ]
  },
  {
   "cell_type": "code",
   "execution_count": 61,
   "metadata": {},
   "outputs": [
    {
     "data": {
      "text/html": [
       "<div>\n",
       "<style scoped>\n",
       "    .dataframe tbody tr th:only-of-type {\n",
       "        vertical-align: middle;\n",
       "    }\n",
       "\n",
       "    .dataframe tbody tr th {\n",
       "        vertical-align: top;\n",
       "    }\n",
       "\n",
       "    .dataframe thead th {\n",
       "        text-align: right;\n",
       "    }\n",
       "</style>\n",
       "<table border=\"1\" class=\"dataframe\">\n",
       "  <thead>\n",
       "    <tr style=\"text-align: right;\">\n",
       "      <th></th>\n",
       "      <th>ts_code</th>\n",
       "      <th>trade_date</th>\n",
       "      <th>open</th>\n",
       "      <th>high</th>\n",
       "      <th>low</th>\n",
       "      <th>close</th>\n",
       "      <th>pre_close</th>\n",
       "      <th>change</th>\n",
       "      <th>pct_chg</th>\n",
       "      <th>vol</th>\n",
       "      <th>amount</th>\n",
       "      <th>state</th>\n",
       "    </tr>\n",
       "  </thead>\n",
       "  <tbody>\n",
       "    <tr>\n",
       "      <th>0</th>\n",
       "      <td>600191.SH</td>\n",
       "      <td>20180604</td>\n",
       "      <td>6.01</td>\n",
       "      <td>6.13</td>\n",
       "      <td>5.93</td>\n",
       "      <td>5.96</td>\n",
       "      <td>5.93</td>\n",
       "      <td>0.03</td>\n",
       "      <td>0.51</td>\n",
       "      <td>40004.93</td>\n",
       "      <td>24104.799</td>\n",
       "      <td>False</td>\n",
       "    </tr>\n",
       "    <tr>\n",
       "      <th>1</th>\n",
       "      <td>600191.SH</td>\n",
       "      <td>20180605</td>\n",
       "      <td>5.93</td>\n",
       "      <td>6.01</td>\n",
       "      <td>5.89</td>\n",
       "      <td>5.98</td>\n",
       "      <td>5.96</td>\n",
       "      <td>0.02</td>\n",
       "      <td>0.34</td>\n",
       "      <td>28872.31</td>\n",
       "      <td>17185.965</td>\n",
       "      <td>True</td>\n",
       "    </tr>\n",
       "    <tr>\n",
       "      <th>2</th>\n",
       "      <td>600191.SH</td>\n",
       "      <td>20180606</td>\n",
       "      <td>5.98</td>\n",
       "      <td>6.02</td>\n",
       "      <td>5.86</td>\n",
       "      <td>5.89</td>\n",
       "      <td>5.98</td>\n",
       "      <td>-0.09</td>\n",
       "      <td>-1.51</td>\n",
       "      <td>33153.44</td>\n",
       "      <td>19595.444</td>\n",
       "      <td>False</td>\n",
       "    </tr>\n",
       "    <tr>\n",
       "      <th>3</th>\n",
       "      <td>600191.SH</td>\n",
       "      <td>20180607</td>\n",
       "      <td>5.88</td>\n",
       "      <td>5.92</td>\n",
       "      <td>5.79</td>\n",
       "      <td>5.80</td>\n",
       "      <td>5.89</td>\n",
       "      <td>-0.09</td>\n",
       "      <td>-1.53</td>\n",
       "      <td>31678.63</td>\n",
       "      <td>18535.841</td>\n",
       "      <td>False</td>\n",
       "    </tr>\n",
       "    <tr>\n",
       "      <th>4</th>\n",
       "      <td>600191.SH</td>\n",
       "      <td>20180608</td>\n",
       "      <td>5.80</td>\n",
       "      <td>5.81</td>\n",
       "      <td>5.52</td>\n",
       "      <td>5.60</td>\n",
       "      <td>5.80</td>\n",
       "      <td>-0.20</td>\n",
       "      <td>-3.45</td>\n",
       "      <td>48944.44</td>\n",
       "      <td>27572.412</td>\n",
       "      <td>False</td>\n",
       "    </tr>\n",
       "  </tbody>\n",
       "</table>\n",
       "</div>"
      ],
      "text/plain": [
       "     ts_code trade_date  open  high   low  close  pre_close  change  pct_chg  \\\n",
       "0  600191.SH   20180604  6.01  6.13  5.93   5.96       5.93    0.03     0.51   \n",
       "1  600191.SH   20180605  5.93  6.01  5.89   5.98       5.96    0.02     0.34   \n",
       "2  600191.SH   20180606  5.98  6.02  5.86   5.89       5.98   -0.09    -1.51   \n",
       "3  600191.SH   20180607  5.88  5.92  5.79   5.80       5.89   -0.09    -1.53   \n",
       "4  600191.SH   20180608  5.80  5.81  5.52   5.60       5.80   -0.20    -3.45   \n",
       "\n",
       "        vol     amount  state  \n",
       "0  40004.93  24104.799  False  \n",
       "1  28872.31  17185.965   True  \n",
       "2  33153.44  19595.444  False  \n",
       "3  31678.63  18535.841  False  \n",
       "4  48944.44  27572.412  False  "
      ]
     },
     "execution_count": 61,
     "metadata": {},
     "output_type": "execute_result"
    }
   ],
   "source": [
    "df = plotly_ohlc(list(selected.values())[0][0])\n",
    "df.head()"
   ]
  },
  {
   "cell_type": "code",
   "execution_count": 18,
   "metadata": {},
   "outputs": [
    {
     "data": {
      "text/html": [
       "<div>\n",
       "<style scoped>\n",
       "    .dataframe tbody tr th:only-of-type {\n",
       "        vertical-align: middle;\n",
       "    }\n",
       "\n",
       "    .dataframe tbody tr th {\n",
       "        vertical-align: top;\n",
       "    }\n",
       "\n",
       "    .dataframe thead th {\n",
       "        text-align: right;\n",
       "    }\n",
       "</style>\n",
       "<table border=\"1\" class=\"dataframe\">\n",
       "  <thead>\n",
       "    <tr style=\"text-align: right;\">\n",
       "      <th></th>\n",
       "      <th>ts_code</th>\n",
       "      <th>trade_date</th>\n",
       "      <th>open</th>\n",
       "      <th>high</th>\n",
       "      <th>low</th>\n",
       "      <th>close</th>\n",
       "      <th>pre_close</th>\n",
       "      <th>change</th>\n",
       "      <th>pct_chg</th>\n",
       "      <th>vol</th>\n",
       "      <th>amount</th>\n",
       "      <th>state</th>\n",
       "    </tr>\n",
       "  </thead>\n",
       "  <tbody>\n",
       "    <tr>\n",
       "      <th>0</th>\n",
       "      <td>600191.SH</td>\n",
       "      <td>20181212</td>\n",
       "      <td>4.53</td>\n",
       "      <td>4.61</td>\n",
       "      <td>4.49</td>\n",
       "      <td>4.50</td>\n",
       "      <td>4.58</td>\n",
       "      <td>-0.08</td>\n",
       "      <td>-1.7467</td>\n",
       "      <td>36063.81</td>\n",
       "      <td>16376.575</td>\n",
       "      <td>False</td>\n",
       "    </tr>\n",
       "    <tr>\n",
       "      <th>1</th>\n",
       "      <td>600191.SH</td>\n",
       "      <td>20181213</td>\n",
       "      <td>4.50</td>\n",
       "      <td>4.57</td>\n",
       "      <td>4.45</td>\n",
       "      <td>4.49</td>\n",
       "      <td>4.50</td>\n",
       "      <td>-0.01</td>\n",
       "      <td>-0.2222</td>\n",
       "      <td>29469.86</td>\n",
       "      <td>13324.881</td>\n",
       "      <td>False</td>\n",
       "    </tr>\n",
       "    <tr>\n",
       "      <th>2</th>\n",
       "      <td>600191.SH</td>\n",
       "      <td>20181214</td>\n",
       "      <td>4.51</td>\n",
       "      <td>4.52</td>\n",
       "      <td>4.35</td>\n",
       "      <td>4.35</td>\n",
       "      <td>4.49</td>\n",
       "      <td>-0.14</td>\n",
       "      <td>-3.1180</td>\n",
       "      <td>32646.85</td>\n",
       "      <td>14455.650</td>\n",
       "      <td>False</td>\n",
       "    </tr>\n",
       "    <tr>\n",
       "      <th>3</th>\n",
       "      <td>600191.SH</td>\n",
       "      <td>20181217</td>\n",
       "      <td>4.32</td>\n",
       "      <td>4.40</td>\n",
       "      <td>4.25</td>\n",
       "      <td>4.34</td>\n",
       "      <td>4.35</td>\n",
       "      <td>-0.01</td>\n",
       "      <td>-0.2299</td>\n",
       "      <td>22400.87</td>\n",
       "      <td>9661.699</td>\n",
       "      <td>True</td>\n",
       "    </tr>\n",
       "    <tr>\n",
       "      <th>4</th>\n",
       "      <td>600191.SH</td>\n",
       "      <td>20181218</td>\n",
       "      <td>4.27</td>\n",
       "      <td>4.40</td>\n",
       "      <td>4.26</td>\n",
       "      <td>4.35</td>\n",
       "      <td>4.34</td>\n",
       "      <td>0.01</td>\n",
       "      <td>0.2304</td>\n",
       "      <td>18675.40</td>\n",
       "      <td>8108.025</td>\n",
       "      <td>True</td>\n",
       "    </tr>\n",
       "  </tbody>\n",
       "</table>\n",
       "</div>"
      ],
      "text/plain": [
       "     ts_code trade_date  open  high   low  close  pre_close  change  pct_chg  \\\n",
       "0  600191.SH   20181212  4.53  4.61  4.49   4.50       4.58   -0.08  -1.7467   \n",
       "1  600191.SH   20181213  4.50  4.57  4.45   4.49       4.50   -0.01  -0.2222   \n",
       "2  600191.SH   20181214  4.51  4.52  4.35   4.35       4.49   -0.14  -3.1180   \n",
       "3  600191.SH   20181217  4.32  4.40  4.25   4.34       4.35   -0.01  -0.2299   \n",
       "4  600191.SH   20181218  4.27  4.40  4.26   4.35       4.34    0.01   0.2304   \n",
       "\n",
       "        vol     amount  state  \n",
       "0  36063.81  16376.575  False  \n",
       "1  29469.86  13324.881  False  \n",
       "2  32646.85  14455.650  False  \n",
       "3  22400.87   9661.699   True  \n",
       "4  18675.40   8108.025   True  "
      ]
     },
     "execution_count": 18,
     "metadata": {},
     "output_type": "execute_result"
    }
   ],
   "source": [
    "df = plotly_ohlc(code='600191.SH', date='20190322', period=100)\n",
    "df.head()"
   ]
  },
  {
   "cell_type": "markdown",
   "metadata": {},
   "source": [
    "# 筛选黄金柱"
   ]
  },
  {
   "cell_type": "code",
   "execution_count": 25,
   "metadata": {},
   "outputs": [
    {
     "name": "stdout",
     "output_type": "stream",
     "text": [
      "20190329\n"
     ]
    },
    {
     "data": {
      "text/plain": [
       "['000651.SZ', '000987.SZ', '001979.SZ', '002081.SZ', '002203.SZ']"
      ]
     },
     "execution_count": 25,
     "metadata": {},
     "output_type": "execute_result"
    }
   ],
   "source": [
    "selected = get_hjz()\n",
    "print(list(selected.keys())[0])\n",
    "list(selected.values())[0][:5]"
   ]
  },
  {
   "cell_type": "code",
   "execution_count": 20,
   "metadata": {},
   "outputs": [],
   "source": [
    "# selected = get_blz(date='20190322', ignore=[], print_mode=True)"
   ]
  },
  {
   "cell_type": "markdown",
   "metadata": {},
   "source": [
    "# 筛选缩量群"
   ]
  },
  {
   "cell_type": "code",
   "execution_count": 26,
   "metadata": {},
   "outputs": [],
   "source": [
    "selected = get_slq()"
   ]
  },
  {
   "cell_type": "code",
   "execution_count": 32,
   "metadata": {},
   "outputs": [
    {
     "name": "stdout",
     "output_type": "stream",
     "text": [
      "000590.SZ\n",
      "002438.SZ\n",
      "600150.SH\n"
     ]
    }
   ],
   "source": [
    "selected = get_slq(date='20190325', period=5, rough=0.8, ignore=[], print_mode=True)"
   ]
  },
  {
   "cell_type": "markdown",
   "metadata": {},
   "source": [
    "# 筛选平量群"
   ]
  },
  {
   "cell_type": "code",
   "execution_count": 49,
   "metadata": {},
   "outputs": [],
   "source": [
    "selected = get_plq()"
   ]
  },
  {
   "cell_type": "code",
   "execution_count": 52,
   "metadata": {},
   "outputs": [],
   "source": [
    "selected = get_plq(date='20190325', period=5, rough=0.8, ignore=[], print_mode=True)"
   ]
  },
  {
   "cell_type": "markdown",
   "metadata": {},
   "source": [
    "# 筛选梯量群"
   ]
  },
  {
   "cell_type": "code",
   "execution_count": 54,
   "metadata": {},
   "outputs": [],
   "source": [
    "selected = get_tlq()"
   ]
  },
  {
   "cell_type": "code",
   "execution_count": 55,
   "metadata": {},
   "outputs": [],
   "source": [
    "selected = get_tlq(date='20190325', period=5, rough=0.8, ignore=[], print_mode=True)"
   ]
  },
  {
   "cell_type": "markdown",
   "metadata": {},
   "source": [
    "# N天中满足条件的次数"
   ]
  },
  {
   "cell_type": "code",
   "execution_count": 34,
   "metadata": {},
   "outputs": [
    {
     "name": "stdout",
     "output_type": "stream",
     "text": [
      "000002.SZ 1\n",
      "000020.SZ 4\n",
      "000023.SZ 3\n",
      "000031.SZ 4\n",
      "000037.SZ 1\n",
      "000045.SZ 4\n",
      "000059.SZ 3\n",
      "000061.SZ 3\n",
      "000070.SZ 1\n"
     ]
    }
   ],
   "source": [
    "count = countN()\n",
    "i = 0\n",
    "for code, times in count.items():\n",
    "    i += 1\n",
    "    if i<10:print(code,times)"
   ]
  },
  {
   "cell_type": "code",
   "execution_count": 35,
   "metadata": {},
   "outputs": [
    {
     "name": "stdout",
     "output_type": "stream",
     "text": [
      "000006.SZ 1\n",
      "000401.SZ 1\n",
      "000596.SZ 2\n",
      "000671.SZ 1\n",
      "000673.SZ 1\n",
      "002011.SZ 1\n",
      "002054.SZ 1\n",
      "002367.SZ 1\n",
      "002596.SZ 1\n"
     ]
    }
   ],
   "source": [
    "count = countN(func=get_blz, N=2, parameters={'date':'20190318','v_pct_min':0.95, 'v_pct_max':1.05, 'c_pct_min':1.05})\n",
    "i = 0\n",
    "for code, times in count.items():\n",
    "    i += 1\n",
    "    if i<10:print(code,times)"
   ]
  },
  {
   "cell_type": "code",
   "execution_count": 36,
   "metadata": {},
   "outputs": [
    {
     "name": "stdout",
     "output_type": "stream",
     "text": [
      "000001.SZ 1\n",
      "000016.SZ 1\n",
      "000027.SZ 1\n",
      "000062.SZ 1\n",
      "000428.SZ 1\n",
      "000539.SZ 1\n",
      "000551.SZ 1\n",
      "000589.SZ 1\n",
      "000598.SZ 1\n"
     ]
    }
   ],
   "source": [
    "count = countN(func=get_hjz, N=2, parameters={'date':'20190318'})\n",
    "i = 0\n",
    "for code, times in count.items():\n",
    "    i += 1\n",
    "    if i<10:print(code,times)"
   ]
  },
  {
   "cell_type": "code",
   "execution_count": 37,
   "metadata": {},
   "outputs": [
    {
     "name": "stdout",
     "output_type": "stream",
     "text": [
      "600036.SH 1\n"
     ]
    }
   ],
   "source": [
    "count = countN(func=get_slq, N=2, parameters={'date':'20190318','period':5, 'rough':0.9})\n",
    "i = 0\n",
    "for code, times in count.items():\n",
    "    i += 1\n",
    "    if i<10:print(code,times)"
   ]
  },
  {
   "cell_type": "markdown",
   "metadata": {},
   "source": [
    "# N天K线图"
   ]
  },
  {
   "cell_type": "code",
   "execution_count": 38,
   "metadata": {},
   "outputs": [
    {
     "data": {
      "text/html": [
       "<div>\n",
       "<style scoped>\n",
       "    .dataframe tbody tr th:only-of-type {\n",
       "        vertical-align: middle;\n",
       "    }\n",
       "\n",
       "    .dataframe tbody tr th {\n",
       "        vertical-align: top;\n",
       "    }\n",
       "\n",
       "    .dataframe thead th {\n",
       "        text-align: right;\n",
       "    }\n",
       "</style>\n",
       "<table border=\"1\" class=\"dataframe\">\n",
       "  <thead>\n",
       "    <tr style=\"text-align: right;\">\n",
       "      <th></th>\n",
       "      <th>trade_date</th>\n",
       "      <th>open</th>\n",
       "      <th>high</th>\n",
       "      <th>low</th>\n",
       "      <th>close</th>\n",
       "      <th>vol</th>\n",
       "      <th>amount</th>\n",
       "      <th>state</th>\n",
       "    </tr>\n",
       "  </thead>\n",
       "  <tbody>\n",
       "    <tr>\n",
       "      <th>1</th>\n",
       "      <td>20180604</td>\n",
       "      <td>6.01</td>\n",
       "      <td>6.13</td>\n",
       "      <td>5.89</td>\n",
       "      <td>5.98</td>\n",
       "      <td>68877.2</td>\n",
       "      <td>41290.8</td>\n",
       "      <td>False</td>\n",
       "    </tr>\n",
       "    <tr>\n",
       "      <th>3</th>\n",
       "      <td>20180606</td>\n",
       "      <td>5.98</td>\n",
       "      <td>6.02</td>\n",
       "      <td>5.79</td>\n",
       "      <td>5.8</td>\n",
       "      <td>64832.1</td>\n",
       "      <td>38131.3</td>\n",
       "      <td>False</td>\n",
       "    </tr>\n",
       "    <tr>\n",
       "      <th>5</th>\n",
       "      <td>20180608</td>\n",
       "      <td>5.8</td>\n",
       "      <td>5.81</td>\n",
       "      <td>5.5</td>\n",
       "      <td>5.55</td>\n",
       "      <td>74681.4</td>\n",
       "      <td>41898.2</td>\n",
       "      <td>False</td>\n",
       "    </tr>\n",
       "    <tr>\n",
       "      <th>7</th>\n",
       "      <td>20180612</td>\n",
       "      <td>5.54</td>\n",
       "      <td>5.62</td>\n",
       "      <td>5.35</td>\n",
       "      <td>5.38</td>\n",
       "      <td>62470.1</td>\n",
       "      <td>34389.2</td>\n",
       "      <td>False</td>\n",
       "    </tr>\n",
       "    <tr>\n",
       "      <th>9</th>\n",
       "      <td>20180614</td>\n",
       "      <td>5.4</td>\n",
       "      <td>5.47</td>\n",
       "      <td>5.07</td>\n",
       "      <td>5.16</td>\n",
       "      <td>66181</td>\n",
       "      <td>34969.7</td>\n",
       "      <td>False</td>\n",
       "    </tr>\n",
       "  </tbody>\n",
       "</table>\n",
       "</div>"
      ],
      "text/plain": [
       "  trade_date  open  high   low close      vol   amount  state\n",
       "1   20180604  6.01  6.13  5.89  5.98  68877.2  41290.8  False\n",
       "3   20180606  5.98  6.02  5.79   5.8  64832.1  38131.3  False\n",
       "5   20180608   5.8  5.81   5.5  5.55  74681.4  41898.2  False\n",
       "7   20180612  5.54  5.62  5.35  5.38  62470.1  34389.2  False\n",
       "9   20180614   5.4  5.47  5.07  5.16    66181  34969.7  False"
      ]
     },
     "execution_count": 38,
     "metadata": {},
     "output_type": "execute_result"
    }
   ],
   "source": [
    "df = Nplotly_ohlc(code='600191.SH')\n",
    "df[0].head()"
   ]
  },
  {
   "cell_type": "code",
   "execution_count": 39,
   "metadata": {},
   "outputs": [
    {
     "data": {
      "text/html": [
       "<div>\n",
       "<style scoped>\n",
       "    .dataframe tbody tr th:only-of-type {\n",
       "        vertical-align: middle;\n",
       "    }\n",
       "\n",
       "    .dataframe tbody tr th {\n",
       "        vertical-align: top;\n",
       "    }\n",
       "\n",
       "    .dataframe thead th {\n",
       "        text-align: right;\n",
       "    }\n",
       "</style>\n",
       "<table border=\"1\" class=\"dataframe\">\n",
       "  <thead>\n",
       "    <tr style=\"text-align: right;\">\n",
       "      <th></th>\n",
       "      <th>trade_date</th>\n",
       "      <th>open</th>\n",
       "      <th>high</th>\n",
       "      <th>low</th>\n",
       "      <th>close</th>\n",
       "      <th>vol</th>\n",
       "      <th>amount</th>\n",
       "      <th>state</th>\n",
       "    </tr>\n",
       "  </thead>\n",
       "  <tbody>\n",
       "    <tr>\n",
       "      <th>2</th>\n",
       "      <td>20180605</td>\n",
       "      <td>5.93</td>\n",
       "      <td>6.02</td>\n",
       "      <td>5.86</td>\n",
       "      <td>5.89</td>\n",
       "      <td>62025.8</td>\n",
       "      <td>36781.4</td>\n",
       "      <td>False</td>\n",
       "    </tr>\n",
       "    <tr>\n",
       "      <th>4</th>\n",
       "      <td>20180607</td>\n",
       "      <td>5.88</td>\n",
       "      <td>5.92</td>\n",
       "      <td>5.52</td>\n",
       "      <td>5.6</td>\n",
       "      <td>80623.1</td>\n",
       "      <td>46108.3</td>\n",
       "      <td>False</td>\n",
       "    </tr>\n",
       "    <tr>\n",
       "      <th>6</th>\n",
       "      <td>20180611</td>\n",
       "      <td>5.59</td>\n",
       "      <td>5.62</td>\n",
       "      <td>5.5</td>\n",
       "      <td>5.61</td>\n",
       "      <td>50048.1</td>\n",
       "      <td>27900</td>\n",
       "      <td>True</td>\n",
       "    </tr>\n",
       "    <tr>\n",
       "      <th>8</th>\n",
       "      <td>20180613</td>\n",
       "      <td>5.6</td>\n",
       "      <td>5.6</td>\n",
       "      <td>5.35</td>\n",
       "      <td>5.4</td>\n",
       "      <td>63064.9</td>\n",
       "      <td>34289.3</td>\n",
       "      <td>False</td>\n",
       "    </tr>\n",
       "    <tr>\n",
       "      <th>10</th>\n",
       "      <td>20180615</td>\n",
       "      <td>5.38</td>\n",
       "      <td>5.43</td>\n",
       "      <td>4.64</td>\n",
       "      <td>4.64</td>\n",
       "      <td>101137</td>\n",
       "      <td>50223.1</td>\n",
       "      <td>False</td>\n",
       "    </tr>\n",
       "  </tbody>\n",
       "</table>\n",
       "</div>"
      ],
      "text/plain": [
       "   trade_date  open  high   low close      vol   amount  state\n",
       "2    20180605  5.93  6.02  5.86  5.89  62025.8  36781.4  False\n",
       "4    20180607  5.88  5.92  5.52   5.6  80623.1  46108.3  False\n",
       "6    20180611  5.59  5.62   5.5  5.61  50048.1    27900   True\n",
       "8    20180613   5.6   5.6  5.35   5.4  63064.9  34289.3  False\n",
       "10   20180615  5.38  5.43  4.64  4.64   101137  50223.1  False"
      ]
     },
     "execution_count": 39,
     "metadata": {},
     "output_type": "execute_result"
    }
   ],
   "source": [
    "df[1].head()"
   ]
  },
  {
   "cell_type": "markdown",
   "metadata": {},
   "source": [
    "# 耗时\n",
    "```python\n",
    "%%time 将会给出cell的代码运行一次所花费的时间\n",
    "\n",
    "%time 将会给出当前行的代码运行一次所花费的时间\n",
    "\n",
    "%timeit 使用Python的timeit模块，它将会执行一个语句100，000次(默认情况下)，然后给出运行最快3次的平均值。\n",
    "```"
   ]
  },
  {
   "cell_type": "code",
   "execution_count": 41,
   "metadata": {},
   "outputs": [
    {
     "name": "stdout",
     "output_type": "stream",
     "text": [
      "CPU times: user 21 µs, sys: 1 µs, total: 22 µs\n",
      "Wall time: 25.7 µs\n"
     ]
    },
    {
     "data": {
      "text/plain": [
       "'20190329'"
      ]
     },
     "execution_count": 41,
     "metadata": {},
     "output_type": "execute_result"
    }
   ],
   "source": [
    "%time get_date();"
   ]
  },
  {
   "cell_type": "code",
   "execution_count": null,
   "metadata": {},
   "outputs": [],
   "source": []
  }
 ],
 "metadata": {
  "kernelspec": {
   "display_name": "Python 3",
   "language": "python",
   "name": "python3"
  },
  "language_info": {
   "codemirror_mode": {
    "name": "ipython",
    "version": 3
   },
   "file_extension": ".py",
   "mimetype": "text/x-python",
   "name": "python",
   "nbconvert_exporter": "python",
   "pygments_lexer": "ipython3",
   "version": "3.6.8"
  }
 },
 "nbformat": 4,
 "nbformat_minor": 2
}
