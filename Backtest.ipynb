{
 "cells": [
  {
   "cell_type": "code",
   "execution_count": 1,
   "metadata": {},
   "outputs": [],
   "source": [
    "%load_ext lab_black"
   ]
  },
  {
   "cell_type": "code",
   "execution_count": 2,
   "metadata": {},
   "outputs": [],
   "source": [
    "import warnings\n",
    "\n",
    "warnings.filterwarnings(\"ignore\")"
   ]
  },
  {
   "cell_type": "code",
   "execution_count": 3,
   "metadata": {},
   "outputs": [],
   "source": [
    "import os\n",
    "import time\n",
    "import numpy as np\n",
    "import tushare as ts\n",
    "import pandas as pd\n",
    "from datetime import datetime, timedelta"
   ]
  },
  {
   "cell_type": "code",
   "execution_count": 4,
   "metadata": {},
   "outputs": [
    {
     "name": "stdin",
     "output_type": "stream",
     "text": [
      "token: ························································\n"
     ]
    }
   ],
   "source": [
    "import getpass\n",
    "\n",
    "token = getpass.getpass(\"token:\")\n",
    "pro = ts.pro_api(token)"
   ]
  },
  {
   "cell_type": "markdown",
   "metadata": {},
   "source": [
    "# 获取当天日期\n",
    "```python\n",
    "Parameters: None\n",
    "\n",
    "Returns: str ('20190325')\n",
    "```"
   ]
  },
  {
   "cell_type": "code",
   "execution_count": 5,
   "metadata": {},
   "outputs": [],
   "source": [
    "get_date = lambda: time.strftime(\"%Y%m%d\", time.localtime(time.time()))"
   ]
  },
  {
   "cell_type": "markdown",
   "metadata": {},
   "source": [
    "# 获取前N天日期\n",
    "```python\n",
    "Parameters:\n",
    "    \n",
    "    date: str ('20190325') 默认今天\n",
    "        \n",
    "    N: int 前 N 天，默认 1 天\n",
    "\n",
    "Returns: str ('20190324')\n",
    "```"
   ]
  },
  {
   "cell_type": "code",
   "execution_count": 6,
   "metadata": {},
   "outputs": [],
   "source": [
    "get_pastdate = lambda date=get_date(), N=1: datetime.strftime(\n",
    "    pd.to_datetime(date) - timedelta(N + 1 - 1), \"%Y%m%d\"\n",
    ")"
   ]
  },
  {
   "cell_type": "markdown",
   "metadata": {},
   "source": [
    "# 获取前N后日期\n",
    "```python\n",
    "Parameters:\n",
    "    \n",
    "    date: str ('20190325') 默认今天\n",
    "        \n",
    "    N: int 后 N 天，默认 1 天\n",
    "\n",
    "Returns: str ('20190324')\n",
    "```"
   ]
  },
  {
   "cell_type": "code",
   "execution_count": 7,
   "metadata": {},
   "outputs": [],
   "source": [
    "get_afterdate = lambda date=get_date(), N=1: datetime.strftime(\n",
    "    pd.to_datetime(date) + timedelta(N + 1 - 1), \"%Y%m%d\"\n",
    ")"
   ]
  },
  {
   "cell_type": "markdown",
   "metadata": {},
   "source": [
    "# 获取最近N天单只个股的数据\n",
    "```python\n",
    "Parameters:\n",
    "    \n",
    "    code: str ('000001.SZ') 没有默认\n",
    "        \n",
    "    date: str ('20190325') 默认今天\n",
    "        \n",
    "    peroid: int 从 date 往前几天，默认 300 天\n",
    "\n",
    "Returns: DataFrame 该支股票的历史数据\n",
    "```"
   ]
  },
  {
   "cell_type": "code",
   "execution_count": 8,
   "metadata": {},
   "outputs": [],
   "source": [
    "def get_oneNdays(code, date=get_date(), period=300):\n",
    "    start_date = get_pastdate(date=date, N=period)\n",
    "    name = pro.stock_basic(exchange=\"\", list_status=\"L\", fields=\"ts_code,name\")\n",
    "    df = pro.daily(ts_code=code, start_date=start_date, end_date=date).iloc[::-1]\n",
    "    df[\"state\"] = df[\"close\"] >= df[\"open\"]  # 阳柱:True, 阴柱:False\n",
    "    df.index = range(len(df))\n",
    "    df.name = \"%s-%s\" % (name[name[\"ts_code\"] == code][\"name\"].item(), code)\n",
    "    return df"
   ]
  },
  {
   "cell_type": "markdown",
   "metadata": {},
   "source": [
    "# 凹口线\n",
    "\n",
    "```python\n",
    "判断凹口的函数，在 plotly_ohlc 中当输入为 draw_line={'凹口':} 时调用，因此不建议单独运行，也不设默认值。\n",
    "\n",
    "前后 min_range 天的低点，往前 back_days 内找一天高点，当天涨幅 ('close'-'open') < increase，前后 max_range 天的 max('open','close') 不能超过当天的 max('open','close')。\n",
    "    \n",
    "Parameters:\n",
    "    \n",
    "    df: get_oneNdays()\n",
    "        \n",
    "    min_range: 找最低点时考虑前后各几项\n",
    "        \n",
    "    back_days: 从低点往前找的天数上限\n",
    "        \n",
    "    increase: 当天涨幅必须达到的标准\n",
    "        \n",
    "    max_range: 找最高点时考虑前后各几项\n",
    "\n",
    "Returns: list 每个元素是一个 tuple，第一项是 index 第二项是 max('open','close')\n",
    "```"
   ]
  },
  {
   "cell_type": "code",
   "execution_count": 9,
   "metadata": {},
   "outputs": [],
   "source": [
    "def aokou(df, min_range, back_days, increase, max_range):\n",
    "    df[\"min\"] = (\n",
    "        df[\"close\"].rolling(2 * min_range + 1, min_periods=min_range, center=True).min()\n",
    "    )\n",
    "    bottom = []\n",
    "    for i in range(len(df) - 1, 0, -1):\n",
    "        if df.loc[i][\"close\"] == df.loc[i][\"min\"]:\n",
    "            bottom.append(i)\n",
    "\n",
    "    df[\"max\"] = (\n",
    "        df[[\"close\", \"open\"]]\n",
    "        .max(axis=1)\n",
    "        .rolling(2 * max_range + 1, min_periods=max_range, center=True)\n",
    "        .max()\n",
    "    )\n",
    "    top = []\n",
    "    for i in range(len(df) - 1, 0, -1):\n",
    "        if max(df.loc[i][\"open\"], df.loc[i][\"close\"]) == df.loc[i][\"max\"]:\n",
    "            top.append(i)\n",
    "\n",
    "    loc = []\n",
    "    for btm in bottom:\n",
    "        while top:\n",
    "            tp = top.pop(0)\n",
    "            if (\n",
    "                tp < btm\n",
    "                and (df.loc[tp][\"close\"] - df.loc[tp][\"open\"])\n",
    "                < df.loc[tp][\"open\"] * increase\n",
    "            ):\n",
    "                loc.append((tp, df.loc[tp][\"max\"]))\n",
    "                break\n",
    "    return loc"
   ]
  },
  {
   "cell_type": "markdown",
   "metadata": {},
   "source": [
    "# 黄金线\n",
    "\n",
    "```python\n",
    "判断黄金线（黄金柱柱顶）的函数，在 plotly_ohlc 中当输入为 draw_line={'黄金':} 时调用，因此不建议单独运行，也不设默认值。\n",
    "    \n",
    "Parameters:\n",
    "    \n",
    "    df: get_oneNdays()\n",
    "\n",
    "Returns: list 每个元素是一个 tuple，第一项是 index 第二项是 max('open','close')\n",
    "```"
   ]
  },
  {
   "cell_type": "code",
   "execution_count": 10,
   "metadata": {},
   "outputs": [],
   "source": [
    "def huangjin(df):\n",
    "    loc = []\n",
    "    for i in range(len(df) - 2):\n",
    "        o1 = df.loc[i][\"open\"]\n",
    "        c1, c2, c3 = (\n",
    "            df.loc[i][\"close\"],\n",
    "            df.loc[i + 1][\"close\"],\n",
    "            df.loc[i + 2][\"close\"],\n",
    "        )\n",
    "        v1, v2, v3 = (df.loc[i][\"vol\"], df.loc[i + 1][\"vol\"], df.loc[i + 2][\"vol\"])\n",
    "        cond_open = o1 < min(c2, c3)  # 收盘价三日不破底\n",
    "        cond_close = c1 < min(c2, c3)  # 收盘价三日不破顶\n",
    "        cond_vol = (v1 > v2) & (v2 > v3)  # 量柱群三日不过头、不抬头\n",
    "        if cond_open and cond_close and cond_vol:\n",
    "            loc.append((i, max(df.loc[i][\"open\"], df.loc[i][\"close\"])))\n",
    "    return loc"
   ]
  },
  {
   "cell_type": "markdown",
   "metadata": {},
   "source": [
    "# 倍量线\n",
    "\n",
    "```python\n",
    "判断倍量线（倍量柱柱底）的函数，在 plotly_ohlc 中当输入为 draw_line={'倍量':} 时调用，因此不建议单独运行，也不设默认值。\n",
    "    \n",
    "Parameters:\n",
    "    \n",
    "    df: get_oneNdays()\n",
    "        \n",
    "    v_pct_min: float 今天的量比上昨天的量的最小值，默认 1.9\n",
    "        \n",
    "    v_pct_max: float 今天的量比上昨天的量的最大值，默认 2.1\n",
    "        \n",
    "    c_pct_min: float 今天的收盘价比上昨天的收盘价的最小值，默认 1.01\n",
    "\n",
    "Returns: list 每个元素是一个 tuple，第一项是 index 第二项是 min('open','close')\n",
    "```"
   ]
  },
  {
   "cell_type": "code",
   "execution_count": 11,
   "metadata": {},
   "outputs": [],
   "source": [
    "def beiliang(df, v_pct_min, v_pct_max, c_pct_min):\n",
    "    loc = []\n",
    "    for i in range(len(df) - 1):\n",
    "        yesterday_v = df.loc[i][\"vol\"]\n",
    "        yesterday_c = df.loc[i][\"close\"]\n",
    "        today_v = df.loc[i + 1][\"vol\"]\n",
    "        today_c = df.loc[i + 1][\"close\"]\n",
    "        v_pct = today_v / yesterday_v\n",
    "        c_pct = today_c / yesterday_c\n",
    "        cond1 = v_pct > v_pct_min and v_pct < v_pct_max\n",
    "        cond2 = c_pct > c_pct_min\n",
    "        if cond1 and cond2:\n",
    "            loc.append((i + 1, min(df.loc[i + 1][\"open\"], df.loc[i + 1][\"close\"])))\n",
    "    return loc"
   ]
  },
  {
   "cell_type": "markdown",
   "metadata": {},
   "source": [
    "# Test"
   ]
  },
  {
   "cell_type": "code",
   "execution_count": 12,
   "metadata": {},
   "outputs": [],
   "source": [
    "period = (\n",
    "    pd.to_datetime(get_date()) - pd.to_datetime(get_pastdate(get_date(), 365))\n",
    ").days\n",
    "df = get_oneNdays(\"600866.SH\", date=get_date(), period=period)"
   ]
  },
  {
   "cell_type": "code",
   "execution_count": 13,
   "metadata": {},
   "outputs": [
    {
     "data": {
      "text/html": [
       "<div>\n",
       "<style scoped>\n",
       "    .dataframe tbody tr th:only-of-type {\n",
       "        vertical-align: middle;\n",
       "    }\n",
       "\n",
       "    .dataframe tbody tr th {\n",
       "        vertical-align: top;\n",
       "    }\n",
       "\n",
       "    .dataframe thead th {\n",
       "        text-align: right;\n",
       "    }\n",
       "</style>\n",
       "<table border=\"1\" class=\"dataframe\">\n",
       "  <thead>\n",
       "    <tr style=\"text-align: right;\">\n",
       "      <th></th>\n",
       "      <th>ts_code</th>\n",
       "      <th>trade_date</th>\n",
       "      <th>open</th>\n",
       "      <th>high</th>\n",
       "      <th>low</th>\n",
       "      <th>close</th>\n",
       "      <th>pre_close</th>\n",
       "      <th>change</th>\n",
       "      <th>pct_chg</th>\n",
       "      <th>vol</th>\n",
       "      <th>amount</th>\n",
       "      <th>state</th>\n",
       "    </tr>\n",
       "  </thead>\n",
       "  <tbody>\n",
       "    <tr>\n",
       "      <th>230</th>\n",
       "      <td>600866.SH</td>\n",
       "      <td>20190408</td>\n",
       "      <td>6.62</td>\n",
       "      <td>6.97</td>\n",
       "      <td>6.41</td>\n",
       "      <td>6.87</td>\n",
       "      <td>6.34</td>\n",
       "      <td>0.53</td>\n",
       "      <td>8.3596</td>\n",
       "      <td>480159.56</td>\n",
       "      <td>325446.564</td>\n",
       "      <td>True</td>\n",
       "    </tr>\n",
       "    <tr>\n",
       "      <th>231</th>\n",
       "      <td>600866.SH</td>\n",
       "      <td>20190409</td>\n",
       "      <td>6.70</td>\n",
       "      <td>6.80</td>\n",
       "      <td>6.44</td>\n",
       "      <td>6.57</td>\n",
       "      <td>6.87</td>\n",
       "      <td>-0.30</td>\n",
       "      <td>-4.3668</td>\n",
       "      <td>240283.98</td>\n",
       "      <td>158382.540</td>\n",
       "      <td>False</td>\n",
       "    </tr>\n",
       "    <tr>\n",
       "      <th>232</th>\n",
       "      <td>600866.SH</td>\n",
       "      <td>20190410</td>\n",
       "      <td>6.58</td>\n",
       "      <td>6.75</td>\n",
       "      <td>6.40</td>\n",
       "      <td>6.55</td>\n",
       "      <td>6.57</td>\n",
       "      <td>-0.02</td>\n",
       "      <td>-0.3044</td>\n",
       "      <td>209609.58</td>\n",
       "      <td>137618.526</td>\n",
       "      <td>False</td>\n",
       "    </tr>\n",
       "    <tr>\n",
       "      <th>233</th>\n",
       "      <td>600866.SH</td>\n",
       "      <td>20190411</td>\n",
       "      <td>6.50</td>\n",
       "      <td>6.54</td>\n",
       "      <td>6.10</td>\n",
       "      <td>6.36</td>\n",
       "      <td>6.55</td>\n",
       "      <td>-0.19</td>\n",
       "      <td>-2.9008</td>\n",
       "      <td>244028.48</td>\n",
       "      <td>154485.180</td>\n",
       "      <td>False</td>\n",
       "    </tr>\n",
       "    <tr>\n",
       "      <th>234</th>\n",
       "      <td>600866.SH</td>\n",
       "      <td>20190412</td>\n",
       "      <td>6.35</td>\n",
       "      <td>6.73</td>\n",
       "      <td>6.28</td>\n",
       "      <td>6.66</td>\n",
       "      <td>6.36</td>\n",
       "      <td>0.30</td>\n",
       "      <td>4.7170</td>\n",
       "      <td>170581.71</td>\n",
       "      <td>110468.135</td>\n",
       "      <td>True</td>\n",
       "    </tr>\n",
       "  </tbody>\n",
       "</table>\n",
       "</div>"
      ],
      "text/plain": [
       "       ts_code trade_date  open  high   low  close  pre_close  change  \\\n",
       "230  600866.SH   20190408  6.62  6.97  6.41   6.87       6.34    0.53   \n",
       "231  600866.SH   20190409  6.70  6.80  6.44   6.57       6.87   -0.30   \n",
       "232  600866.SH   20190410  6.58  6.75  6.40   6.55       6.57   -0.02   \n",
       "233  600866.SH   20190411  6.50  6.54  6.10   6.36       6.55   -0.19   \n",
       "234  600866.SH   20190412  6.35  6.73  6.28   6.66       6.36    0.30   \n",
       "\n",
       "     pct_chg        vol      amount  state  \n",
       "230   8.3596  480159.56  325446.564   True  \n",
       "231  -4.3668  240283.98  158382.540  False  \n",
       "232  -0.3044  209609.58  137618.526  False  \n",
       "233  -2.9008  244028.48  154485.180  False  \n",
       "234   4.7170  170581.71  110468.135   True  "
      ]
     },
     "execution_count": 13,
     "metadata": {},
     "output_type": "execute_result"
    }
   ],
   "source": [
    "df.tail()"
   ]
  },
  {
   "cell_type": "code",
   "execution_count": 29,
   "metadata": {},
   "outputs": [],
   "source": [
    "draw_line = {\"凹口\": 365}\n",
    "lines = {}\n",
    "length = {}\n",
    "\n",
    "if \"凹口\" in draw_line.keys():\n",
    "    lines[\"凹口\"] = aokou(df, min_range=7, back_days=365, increase=0.09, max_range=7)\n",
    "    length[\"凹口\"] = draw_line[\"凹口\"]\n",
    "\n",
    "line = \"凹口\"\n",
    "x_data, y_data = [], []\n",
    "for date, price in lines[line]:\n",
    "    from_date = df.loc[date][\"trade_date\"]\n",
    "    to_date = min(\n",
    "        pd.to_datetime(get_date()),\n",
    "        pd.to_datetime(get_afterdate(from_date, length[line])),\n",
    "    )\n",
    "    x_data += list(pd.date_range(from_date, to_date))\n",
    "    y_data += [price] * len(pd.date_range(from_date, to_date))\n",
    "\n",
    "##### 正负5%的范围内只取最新的线 #####\n",
    "data = {}\n",
    "for x, y in zip(x_data, y_data):\n",
    "    if x in data:\n",
    "        data[x] += [y]\n",
    "    else:\n",
    "        data[x] = [y]\n",
    "x_data_new, y_data_new, remove = [], [], []\n",
    "for date in data:\n",
    "    if len(data[date]) > 1:\n",
    "        i = 0\n",
    "        for i in range(len(data[date])):\n",
    "            for j in range(i + 1, len(data[date])):\n",
    "                if (\n",
    "                    abs(data[date][i] - data[date][j]) < data[date][i] * 0.05\n",
    "                    and data[date][j] not in remove\n",
    "                ):\n",
    "                    remove.append(data[date][j])\n",
    "    remove = [k for k in remove if k in data[date]]\n",
    "    add_line = list(set(data[date]) - set(remove))\n",
    "    x_data_new += [date] * len(add_line)\n",
    "    y_data_new += add_line\n",
    "\n",
    "##### 正负5%的范围内只取最新的线 #####\n",
    "\n",
    "df[line] = list(np.repeat(np.array([[]]), len(df), axis=0))\n",
    "for x, y in zip(x_data_new, y_data_new):\n",
    "    x_str = x.strftime(\"%Y%m%d\")\n",
    "    if x_str in list(df[\"trade_date\"]):\n",
    "        index = df[df[\"trade_date\"] == x_str].index.item()\n",
    "        if y not in df.at[index, line]:\n",
    "            if line == \"凹口\" and y < max(df.at[index, \"open\"], df.at[index, \"close\"]):\n",
    "                pass\n",
    "            else:\n",
    "                df.at[index, line] = np.append(df.at[index, line], y)"
   ]
  },
  {
   "cell_type": "code",
   "execution_count": 30,
   "metadata": {},
   "outputs": [],
   "source": [
    "df[\"倍量\"] = [0.0] * len(df)\n",
    "for i, p in beiliang(df, v_pct_min=1.9, v_pct_max=2.1, c_pct_min=1.01):\n",
    "    df.at[i, \"倍量\"] = p"
   ]
  },
  {
   "cell_type": "code",
   "execution_count": 31,
   "metadata": {},
   "outputs": [],
   "source": [
    "df[\"黄金\"] = [0.0] * len(df)\n",
    "for i, p in huangjin(df):\n",
    "    df.at[i, \"黄金\"] = p"
   ]
  },
  {
   "cell_type": "code",
   "execution_count": 32,
   "metadata": {},
   "outputs": [
    {
     "name": "stdout",
     "output_type": "stream",
     "text": [
      "Date\t\t\t凹口\tmax\t突破\t倍量\t黄金\n",
      "20190118-20190213\t 3.39\t3.41\tTrue\t0\t0\n",
      "20190214-20190306\t 4.06\t4.13\tTrue\t0\t1\n",
      "20190307-20190329\t 5.12\t5.36\tTrue\t1\t0\n"
     ]
    }
   ],
   "source": [
    "in_aoukou = False\n",
    "start, end = 0, 0\n",
    "bl, hj = [], []\n",
    "aoukou_line = []\n",
    "print(\"Date\\t\\t\\t凹口\\tmax\\t突破\\t倍量\\t黄金\")\n",
    "for i in range(len(df) - 1):\n",
    "    if not in_aoukou and len(df.loc[i, \"凹口\"]) > 0:\n",
    "        in_aoukou = True\n",
    "        if len(aoukou_line) == 0:\n",
    "            aoukou_line = df.loc[i, \"凹口\"]\n",
    "        start = i\n",
    "        end = 0\n",
    "        bl, hj = [], []\n",
    "    elif in_aoukou:\n",
    "        if max(df.loc[i, \"open\"], df.loc[i, \"close\"]) > min(aoukou_line):\n",
    "            in_aoukou = False\n",
    "            end = i\n",
    "            print(\n",
    "                \"%s-%s\\t%5.2f\\t%s\\t%s\\t%s\\t%s\"\n",
    "                % (df.loc[start]['trade_date'], df.loc[end]['trade_date'], min(aoukou_line), max(df.loc[end, \"open\"], df.loc[end, \"close\"]),(min(aoukou_line)<max(df.loc[end,\"open\"],df.loc[i,\"close\"])),len(bl),len(hj))\n",
    "            )\n",
    "            aoukou_line = np.delete(aoukou_line, aoukou_line.argmin())\n",
    "        elif set(df.loc[i, \"凹口\"]) != set(aoukou_line):\n",
    "            aoukou_line = df.loc[i, \"凹口\"]\n",
    "            start = i\n",
    "            end = 0\n",
    "            bl, hj = [], []\n",
    "    if df.loc[i, \"倍量\"] not in bl + [0]:\n",
    "        bl.append(df.loc[i, \"倍量\"])\n",
    "    if df.loc[i, \"黄金\"] not in hj + [0]:\n",
    "        hj.append(df.loc[i, \"黄金\"])"
   ]
  },
  {
   "cell_type": "code",
   "execution_count": null,
   "metadata": {},
   "outputs": [],
   "source": []
  }
 ],
 "metadata": {
  "kernelspec": {
   "display_name": "Python 3",
   "language": "python",
   "name": "python3"
  },
  "language_info": {
   "codemirror_mode": {
    "name": "ipython",
    "version": 3
   },
   "file_extension": ".py",
   "mimetype": "text/x-python",
   "name": "python",
   "nbconvert_exporter": "python",
   "pygments_lexer": "ipython3",
   "version": "3.6.8"
  }
 },
 "nbformat": 4,
 "nbformat_minor": 2
}
