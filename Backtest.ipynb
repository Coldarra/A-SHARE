{
 "cells": [
  {
   "cell_type": "code",
   "execution_count": 1,
   "metadata": {},
   "outputs": [],
   "source": [
    "%load_ext lab_black"
   ]
  },
  {
   "cell_type": "code",
   "execution_count": 2,
   "metadata": {},
   "outputs": [],
   "source": [
    "import os\n",
    "import time\n",
    "import numpy as np\n",
    "import tushare as ts\n",
    "import pandas as pd\n",
    "from datetime import datetime, timedelta"
   ]
  },
  {
   "cell_type": "code",
   "execution_count": 3,
   "metadata": {},
   "outputs": [
    {
     "name": "stdin",
     "output_type": "stream",
     "text": [
      "token: ························································\n"
     ]
    }
   ],
   "source": [
    "import getpass\n",
    "\n",
    "token = getpass.getpass(\"token:\")\n",
    "pro = ts.pro_api(token)"
   ]
  },
  {
   "cell_type": "markdown",
   "metadata": {},
   "source": [
    "# 获取当天日期\n",
    "```python\n",
    "Parameters: None\n",
    "\n",
    "Returns: str ('20190325')\n",
    "```"
   ]
  },
  {
   "cell_type": "code",
   "execution_count": 4,
   "metadata": {},
   "outputs": [],
   "source": [
    "get_date = lambda: time.strftime(\"%Y%m%d\", time.localtime(time.time()))"
   ]
  },
  {
   "cell_type": "markdown",
   "metadata": {},
   "source": [
    "# 获取前N天日期\n",
    "```python\n",
    "Parameters:\n",
    "    \n",
    "    date: str ('20190325') 默认今天\n",
    "        \n",
    "    N: int 前 N 天，默认 1 天\n",
    "\n",
    "Returns: str ('20190324')\n",
    "```"
   ]
  },
  {
   "cell_type": "code",
   "execution_count": 5,
   "metadata": {},
   "outputs": [],
   "source": [
    "get_pastdate = lambda date=get_date(), N=1: datetime.strftime(\n",
    "    pd.to_datetime(date) - timedelta(N + 1 - 1), \"%Y%m%d\"\n",
    ")"
   ]
  },
  {
   "cell_type": "markdown",
   "metadata": {},
   "source": [
    "# 获取N天后日期\n",
    "```python\n",
    "Parameters:\n",
    "    \n",
    "    date: str ('20190325') 默认今天\n",
    "        \n",
    "    N: int 后 N 天，默认 1 天\n",
    "\n",
    "Returns: str ('20190324')\n",
    "```"
   ]
  },
  {
   "cell_type": "code",
   "execution_count": 6,
   "metadata": {},
   "outputs": [],
   "source": [
    "get_afterdate = lambda date=get_date(), N=1: datetime.strftime(\n",
    "    pd.to_datetime(date) + timedelta(N + 1 - 1), \"%Y%m%d\"\n",
    ")"
   ]
  },
  {
   "cell_type": "markdown",
   "metadata": {},
   "source": [
    "# 获取最近N天单只个股的数据\n",
    "```python\n",
    "Parameters:\n",
    "    \n",
    "    code: str ('000001.SZ') 没有默认\n",
    "        \n",
    "    date: str ('20190325') 默认今天\n",
    "        \n",
    "    peroid: int 从 date 往前几天，默认 300 天\n",
    "\n",
    "Returns: DataFrame 该支股票的历史数据\n",
    "```"
   ]
  },
  {
   "cell_type": "code",
   "execution_count": 7,
   "metadata": {},
   "outputs": [],
   "source": [
    "def get_oneNdays(code, date=get_date(), period=300):\n",
    "    start_date = get_pastdate(date=date, N=period)\n",
    "    name = pro.stock_basic(exchange=\"\", list_status=\"L\", fields=\"ts_code,name\")\n",
    "    df = pro.daily(ts_code=code, start_date=start_date, end_date=date).iloc[::-1]\n",
    "    df[\"state\"] = df[\"close\"] >= df[\"open\"]  # 阳柱:True, 阴柱:False\n",
    "    df.index = range(len(df))\n",
    "    df.name = \"%s-%s\" % (name[name[\"ts_code\"] == code][\"name\"].item(), code)\n",
    "    return df"
   ]
  },
  {
   "cell_type": "markdown",
   "metadata": {},
   "source": [
    "# 凹口线\n",
    "\n",
    "```python\n",
    "判断凹口的函数，在 plotly_ohlc 中当输入为 draw_line={'凹口':} 时调用，因此不建议单独运行，也不设默认值。\n",
    "\n",
    "前后 min_range 天的低点，往前 back_days 内找一天高点，当天涨幅 ('close'-'open') < increase，前后 max_range 天的 max('open','close') 不能超过当天的 max('open','close')。\n",
    "    \n",
    "Parameters:\n",
    "    \n",
    "    df: get_oneNdays()\n",
    "        \n",
    "    min_range: 找最低点时考虑前后各几项\n",
    "        \n",
    "    back_days: 从低点往前找的天数上限\n",
    "        \n",
    "    increase: 当天涨幅必须达到的标准\n",
    "        \n",
    "    max_range: 找最高点时考虑前后各几项\n",
    "\n",
    "Returns: dict 每个 key 是一个 index（整数），也就是凹口线的起点，每个 value 是一个凹口线的值，也就是 max('open','close')\n",
    "```"
   ]
  },
  {
   "cell_type": "code",
   "execution_count": 8,
   "metadata": {},
   "outputs": [],
   "source": [
    "def aokou(df, min_range, back_days, increase, max_range):\n",
    "    df[\"min\"] = (\n",
    "        df[\"close\"].rolling(2 * min_range + 1, min_periods=min_range, center=True).min()\n",
    "    )\n",
    "    bottom = []\n",
    "    for i in range(len(df) - 1, 0, -1):\n",
    "        if df.loc[i][\"close\"] == df.loc[i][\"min\"]:\n",
    "            bottom.append(i)\n",
    "\n",
    "    df[\"max\"] = (\n",
    "        df[[\"close\", \"open\"]]\n",
    "        .max(axis=1)\n",
    "        .rolling(2 * max_range + 1, min_periods=max_range, center=True)\n",
    "        .max()\n",
    "    )\n",
    "    top = []\n",
    "    for i in range(len(df) - 1, 0, -1):\n",
    "        if max(df.loc[i][\"open\"], df.loc[i][\"close\"]) == df.loc[i][\"max\"]:\n",
    "            top.append(i)\n",
    "\n",
    "    x, y = [], []\n",
    "    bottom_list = []\n",
    "    for btm in bottom:\n",
    "        while top:\n",
    "            tp = top.pop(0)\n",
    "            if (\n",
    "                tp < btm\n",
    "                and (df.loc[tp][\"close\"] - df.loc[tp][\"open\"])\n",
    "                < df.loc[tp][\"open\"] * increase\n",
    "                and df.loc[tp][\"max\"] not in y\n",
    "            ):\n",
    "                if len(x) == 0:\n",
    "                    x.append(tp)\n",
    "                    y.append(df.loc[tp][\"max\"])\n",
    "                    bottom_list.append(btm)\n",
    "                    break\n",
    "                elif x[-1] - tp > min_range:\n",
    "                    x.append(tp)\n",
    "                    y.append(df.loc[tp][\"max\"])\n",
    "                    bottom_list.append(btm)\n",
    "                    break\n",
    "                else:\n",
    "                    pass\n",
    "    return [dict(zip(x, y)), dict(zip(x, bottom_list))]"
   ]
  },
  {
   "cell_type": "markdown",
   "metadata": {},
   "source": [
    "# 黄金线\n",
    "\n",
    "```python\n",
    "判断黄金线（黄金柱柱顶）的函数，在 plotly_ohlc 中当输入为 draw_line={'黄金':} 时调用，因此不建议单独运行，也不设默认值。\n",
    "    \n",
    "Parameters:\n",
    "    \n",
    "    df: get_oneNdays()\n",
    "\n",
    "Returns: Returns: dict 每个 key 是一个 index（整数），每个 value 是一个黄金线的值，也就是 max('open','close')\n",
    "```"
   ]
  },
  {
   "cell_type": "code",
   "execution_count": 9,
   "metadata": {},
   "outputs": [],
   "source": [
    "def huangjin(df):\n",
    "    x, y = [], []\n",
    "    for i in range(len(df) - 2):\n",
    "        o1 = df.loc[i][\"open\"]\n",
    "        c1, c2, c3 = (\n",
    "            df.loc[i][\"close\"],\n",
    "            df.loc[i + 1][\"close\"],\n",
    "            df.loc[i + 2][\"close\"],\n",
    "        )\n",
    "        v1, v2, v3 = (df.loc[i][\"vol\"], df.loc[i + 1][\"vol\"], df.loc[i + 2][\"vol\"])\n",
    "        cond_open = o1 < min(c2, c3)  # 收盘价三日不破底\n",
    "        cond_close = c1 < min(c2, c3)  # 收盘价三日不破顶\n",
    "        cond_vol = (v1 > v2) & (v2 > v3)  # 量柱群三日不过头、不抬头\n",
    "        if cond_open and cond_close and cond_vol:\n",
    "            x.append(i)\n",
    "            y.append(max(df.loc[i][\"open\"], df.loc[i][\"close\"]))\n",
    "    return dict(zip(x, y))"
   ]
  },
  {
   "cell_type": "markdown",
   "metadata": {},
   "source": [
    "# 倍量线\n",
    "\n",
    "```python\n",
    "判断倍量线（倍量柱柱底）的函数，在 plotly_ohlc 中当输入为 draw_line={'倍量':} 时调用，因此不建议单独运行，也不设默认值。\n",
    "    \n",
    "Parameters:\n",
    "    \n",
    "    df: get_oneNdays()\n",
    "        \n",
    "    v_pct_min: float 今天的量比上昨天的量的最小值\n",
    "        \n",
    "    v_pct_max: float 今天的量比上昨天的量的最大值\n",
    "        \n",
    "    c_pct_min: float 今天的收盘价比上昨天的收盘价的最小值\n",
    "\n",
    "Returns: Returns: dict 每个 key 是一个 index（整数），每个 value 是一个倍量线的值，也就是 min('open','close')\n",
    "```"
   ]
  },
  {
   "cell_type": "code",
   "execution_count": 10,
   "metadata": {},
   "outputs": [],
   "source": [
    "def beiliang(df, v_pct_min, v_pct_max, c_pct_min):\n",
    "    x, y = [], []\n",
    "    for i in range(len(df) - 1):\n",
    "        yesterday_v = df.loc[i][\"vol\"]\n",
    "        yesterday_c = df.loc[i][\"close\"]\n",
    "        today_v = df.loc[i + 1][\"vol\"]\n",
    "        today_c = df.loc[i + 1][\"close\"]\n",
    "        v_pct = today_v / yesterday_v\n",
    "        c_pct = today_c / yesterday_c\n",
    "        cond1 = v_pct > v_pct_min and v_pct < v_pct_max\n",
    "        cond2 = c_pct > c_pct_min\n",
    "        if cond1 and cond2:\n",
    "            x.append(i + 1)\n",
    "            y.append(min(df.loc[i + 1][\"open\"], df.loc[i + 1][\"close\"]))\n",
    "    return dict(zip(x, y))"
   ]
  },
  {
   "cell_type": "markdown",
   "metadata": {},
   "source": [
    "# 买入信号\n",
    "```python\n",
    "突破凹口线 max(\"open\",\"close\")>min(ak_line)，前提是这条凹口线的起点必须在150天以内，而且往前 100 天内要有 1 次以上倍量\n",
    "```\n"
   ]
  },
  {
   "cell_type": "code",
   "execution_count": 32,
   "metadata": {},
   "outputs": [],
   "source": [
    "def buy(df, i, new_ak, bl, print_mode=False):\n",
    "    global ak_line, ak\n",
    "    if len(ak_line) > 0 and df.loc[i, \"high\"] > min(ak_line):  # 如果当天在凹口里面，而且突破凹口线\n",
    "        break_line = max(\n",
    "            set(ak_line) - set([j for j in ak_line if j > df.loc[i, \"high\"]])\n",
    "        )  # 可能一次突破2条凹口线，所以取突破的最大凹口线\n",
    "        new_ak_line = [j for j in ak_line if j > df.loc[i, \"high\"]]  # 突破的凹口线就把它去掉\n",
    "        l = list(ak[0].keys()).copy()\n",
    "        for m in l:\n",
    "            if m < i and ak[0][m] < df.loc[i, \"high\"]:\n",
    "                ak[0].pop(m)\n",
    "                ak[1].pop(m)\n",
    "        ak_line = new_ak_line\n",
    "        start = max(0, i - 100)\n",
    "        if (\n",
    "            len([b for b in bl.keys() if b < i and b > start]) > 1\n",
    "        ):  # 如果从起点到现在这段时间里面黄金柱的数量大于1\n",
    "            if print_mode:\n",
    "                print(\n",
    "                    df.loc[i, \"trade_date\"],\n",
    "                    \"最高价:\",\n",
    "                    \"%5.2f\" % df.loc[i, \"high\"],\n",
    "                    \"突破:\",\n",
    "                    \"%5.2f\" % break_line,\n",
    "                    \"凹口线起点:\",\n",
    "                    df.loc[\n",
    "                        list(new_ak.keys())[list(new_ak.values()).index(break_line)],\n",
    "                        \"trade_date\",\n",
    "                    ],\n",
    "                    \"倍量柱数量:\",\n",
    "                    len([b for b in bl.keys() if b < i and b > start]),\n",
    "                )\n",
    "            # 返回当天的 index 和由持仓线构成的 list，因为之后要持仓线要变动，所以采用 list 保存历史信息，其中原始平仓线设在买入线下面1%\n",
    "            return break_line\n",
    "        else:\n",
    "            return False\n",
    "    else:\n",
    "        return False"
   ]
  },
  {
   "cell_type": "markdown",
   "metadata": {},
   "source": [
    "# 卖出信号\n",
    "跌破持仓线（持续增加中的最大值）就卖出\n",
    "1. 开盘卖\n",
    "2. 盘中卖"
   ]
  },
  {
   "cell_type": "code",
   "execution_count": 48,
   "metadata": {},
   "outputs": [],
   "source": [
    "def sell(df, i, print_mode=False):\n",
    "    global line\n",
    "    if df.loc[i, \"open\"] < max(line):  # 当天开盘就跌破持仓线（持续增加中的最大值）\n",
    "        if print_mode:\n",
    "            print(\n",
    "                df.loc[i, \"trade_date\"],\n",
    "                \"开盘卖:\",\n",
    "                \"%5.2f\" % df.loc[i, \"open\"],\n",
    "                \"持仓:\",\n",
    "                \"%5.2f\" % max(line),\n",
    "            )\n",
    "        line = []\n",
    "        return df.loc[i, \"open\"]  # 以开盘价卖出\n",
    "    elif df.loc[i, \"low\"] < max(line):  # 当天盘中跌破持仓线（持续增加中的最大值）\n",
    "        sold = max(line)\n",
    "        if print_mode:\n",
    "            print(\n",
    "                df.loc[i, \"trade_date\"], \"盘中卖:\", \"%5.2f\" % sold, \"持仓:\", \"%5.2f\" % sold\n",
    "            )\n",
    "        line = []\n",
    "        return sold  # 以持仓线（持续增加中的最大值）卖出\n",
    "    else:\n",
    "        return False"
   ]
  },
  {
   "cell_type": "markdown",
   "metadata": {},
   "source": [
    "# 平仓线调整\n",
    "1. 上涨超过20%，每上涨20%设置check点，设置新平仓线为check点与买入点的中间价格\n",
    "2. 当上涨超过50%，平仓线设置于3/4位点"
   ]
  },
  {
   "cell_type": "code",
   "execution_count": 46,
   "metadata": {},
   "outputs": [],
   "source": [
    "def adj(df, i, line):\n",
    "    if (df.loc[i, \"high\"] - line[0]) / line[0] > 0.5:\n",
    "        line.append(line[0] + (df.loc[i, \"high\"] - line[0]) * 0.75)\n",
    "    elif (df.loc[i, \"high\"] - line[0]) / line[0] > 0.2:\n",
    "        line.append((df.loc[i, \"high\"] + line[0]) * 0.5)\n",
    "    return line"
   ]
  },
  {
   "cell_type": "markdown",
   "metadata": {},
   "source": [
    "# 凹口线更新\n",
    "\n",
    "```python\n",
    "不能用到未来的信息，所以必须等到最低点后 7 天（ 7 天后才知道是最低点）才能画出凹口线，并且凹口线的起点必须要在最近 150 天以内才有效。\n",
    "```"
   ]
  },
  {
   "cell_type": "code",
   "execution_count": 40,
   "metadata": {},
   "outputs": [],
   "source": [
    "def update_ak_line(i, ak):\n",
    "    ak_index = []\n",
    "    for j in ak[0].keys():\n",
    "        if i - j < 150 and i > ak[1][j] + 7:\n",
    "            ak_index.append(j)\n",
    "    return dict(zip(ak_index, [ak[0][x] for x in ak_index]))"
   ]
  },
  {
   "cell_type": "markdown",
   "metadata": {},
   "source": [
    "# BackTest\n",
    "```python\n",
    "因为前面混乱的代码使用了全局变量，所以这部分的主代码不能包装成函数orz，如果要迭代，就写进 for loop\n",
    "\n",
    "print_detail = False 每次买卖的信息\n",
    "\n",
    "print_return = False 一支股票交易一年后的总年化收益率\n",
    "\n",
    "手续费: 买卖时收取千分之一的手续费\n",
    "\n",
    "```"
   ]
  },
  {
   "cell_type": "code",
   "execution_count": 75,
   "metadata": {},
   "outputs": [
    {
     "name": "stdout",
     "output_type": "stream",
     "text": [
      "600783.SH\n",
      "20181105 最高价: 10.78 突破: 10.29 凹口线起点: 20180725 倍量柱数量: 2\n",
      "20181109 开盘卖: 14.15 持仓: 14.40\n",
      "20181112 最高价: 15.54 突破: 11.81 凹口线起点: 20180521 倍量柱数量: 3\n",
      "20181121 盘中卖: 21.30 持仓: 21.30\n",
      "20190226 最高价: 25.06 突破: 23.44 凹口线起点: 20181120 倍量柱数量: 2\n",
      "20190301 开盘卖: 21.08 持仓: 23.21\n",
      "600783.SH 收益率  1.23\n",
      "600888.SH\n",
      "20190321 最高价:  6.38 突破:  6.00 凹口线起点: 20180809 倍量柱数量: 2\n",
      "20190322 开盘卖:  5.91 持仓:  5.94\n",
      "600888.SH 收益率 -0.02\n",
      "600666.SH\n",
      "20190219 最高价:  3.72 突破:  3.67 凹口线起点: 20181212 倍量柱数量: 2\n",
      "20190220 盘中卖:  3.63 持仓:  3.63\n",
      "20190225 最高价:  3.83 突破:  3.81 凹口线起点: 20181122 倍量柱数量: 2\n",
      "20190226 盘中卖:  3.77 持仓:  3.77\n",
      "20190304 最高价:  3.98 突破:  3.88 凹口线起点: 20180921 倍量柱数量: 2\n",
      "20190305 开盘卖:  3.80 持仓:  3.84\n",
      "20190306 最高价:  4.31 突破:  4.10 凹口线起点: 20180910 倍量柱数量: 2\n",
      "20190311 开盘卖:  4.00 持仓:  4.06\n",
      "600666.SH 收益率 -0.06\n",
      "600218.SH\n",
      "20190114 最高价:  5.54 突破:  5.49 凹口线起点: 20180925 倍量柱数量: 2\n",
      "20190115 开盘卖:  5.43 持仓:  5.44\n",
      "20190116 最高价:  6.10 突破:  5.62 凹口线起点: 20180910 倍量柱数量: 2\n",
      "20190118 盘中卖:  6.15 持仓:  6.15\n",
      "20190220 最高价: 12.06 突破: 10.05 凹口线起点: 20190128 倍量柱数量: 2\n",
      "20190227 开盘卖: 11.88 持仓: 12.32\n",
      "20190411 最高价: 14.55 突破: 14.50 凹口线起点: 20190226 倍量柱数量: 2\n",
      "20190415 最后一天开盘卖: 16.10\n",
      "600218.SH 收益率  0.42\n"
     ]
    }
   ],
   "source": [
    "print_detail = True\n",
    "print_return = True\n",
    "return_list = []\n",
    "for code in [\"600783.SH\", \"600888.SH\", \"600666.SH\", \"600218.SH\"]:\n",
    "    if print_detail:\n",
    "        print(code)\n",
    "    period = (\n",
    "        pd.to_datetime(get_date()) - pd.to_datetime(get_pastdate(get_date(), 365))\n",
    "    ).days\n",
    "    df = get_oneNdays(code, date=get_date(), period=period)\n",
    "\n",
    "    ak = aokou(df, min_range=7, back_days=365, increase=0.09, max_range=7)\n",
    "    bl = beiliang(df, v_pct_min=1.9, v_pct_max=2.1, c_pct_min=1.01)\n",
    "\n",
    "    line = []\n",
    "    ass = []\n",
    "    ass_return = 1\n",
    "    poss = False\n",
    "    for i in range(len(df)):\n",
    "        new_ak = update_ak_line(i, ak)\n",
    "        ak_line = list(new_ak.values())\n",
    "        if not poss:\n",
    "            temp = buy(df, i, new_ak, bl, print_mode=print_detail)\n",
    "            if temp != False:\n",
    "                poss = True\n",
    "                ass.append(temp)\n",
    "                line.append(temp * 0.99)\n",
    "        else:\n",
    "            line = adj(df, i, line)\n",
    "            temp = sell(df, i, print_mode=print_detail)\n",
    "            if temp != False:\n",
    "                poss = False  # 空仓\n",
    "                ass.append(temp)\n",
    "                ass_return *= ass[-1] * 0.999 / ass[-2] * 1.001\n",
    "        if i == len(df) - 1 and poss:  # 最后一天还没空仓\n",
    "            ass.append(df.loc[i, \"open\"])\n",
    "            ass_return *= ass[-1] * 0.999 / ass[-2] * 1.001\n",
    "            if print_detail:\n",
    "                print(df.loc[i, \"trade_date\"], \"最后一天开盘卖:\", \"%5.2f\" % df.loc[i, \"open\"])\n",
    "    return_list.append(ass_return - 1)\n",
    "    if print_return:\n",
    "        print(code, \"收益率\", \"%5.2f\" % (ass_return - 1))"
   ]
  },
  {
   "cell_type": "code",
   "execution_count": 76,
   "metadata": {},
   "outputs": [
    {
     "data": {
      "text/plain": [
       "[1.2301864699107559,\n",
       " -0.015000985000000133,\n",
       " -0.06352398730139708,\n",
       " 0.42104212558665943]"
      ]
     },
     "execution_count": 76,
     "metadata": {},
     "output_type": "execute_result"
    }
   ],
   "source": [
    "return_list"
   ]
  },
  {
   "cell_type": "code",
   "execution_count": null,
   "metadata": {},
   "outputs": [],
   "source": []
  }
 ],
 "metadata": {
  "kernelspec": {
   "display_name": "Python 3",
   "language": "python",
   "name": "python3"
  },
  "language_info": {
   "codemirror_mode": {
    "name": "ipython",
    "version": 3
   },
   "file_extension": ".py",
   "mimetype": "text/x-python",
   "name": "python",
   "nbconvert_exporter": "python",
   "pygments_lexer": "ipython3",
   "version": "3.6.8"
  }
 },
 "nbformat": 4,
 "nbformat_minor": 2
}
